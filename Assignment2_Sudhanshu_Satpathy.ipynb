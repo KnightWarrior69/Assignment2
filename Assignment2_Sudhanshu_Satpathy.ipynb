{
 "cells": [
  {
   "cell_type": "markdown",
   "id": "8a558204-13a5-424a-9433-3d951513eb61",
   "metadata": {},
   "source": [
    "### TOPIC: String Based Assignment Problem "
   ]
  },
  {
   "cell_type": "markdown",
   "id": "bd542d26-cf93-4298-87ee-df0a8df84774",
   "metadata": {},
   "source": [
    "1. Write a program to reverse a string."
   ]
  },
  {
   "cell_type": "code",
   "execution_count": 1,
   "id": "d8ba1c7a-34c2-4f91-9d35-086a95987e01",
   "metadata": {},
   "outputs": [
    {
     "name": "stdin",
     "output_type": "stream",
     "text": [
      "enter a string hello world\n"
     ]
    },
    {
     "name": "stdout",
     "output_type": "stream",
     "text": [
      "the reverse of hello world  is  dlrow olleh\n"
     ]
    }
   ],
   "source": [
    "my_string = input('enter a string')\n",
    "reversed_my_string = my_string[::-1]\n",
    "print('the reverse of',my_string, ' is ', reversed_my_string)"
   ]
  },
  {
   "cell_type": "markdown",
   "id": "639546bb-68ad-411e-a434-8f039caf0ee9",
   "metadata": {},
   "source": [
    "2. Check if a string is a palindrome."
   ]
  },
  {
   "cell_type": "code",
   "execution_count": 4,
   "id": "53967594-d12c-4e21-b0f0-096f1950b93c",
   "metadata": {},
   "outputs": [
    {
     "name": "stdin",
     "output_type": "stream",
     "text": [
      "enter a string miim\n"
     ]
    },
    {
     "name": "stdout",
     "output_type": "stream",
     "text": [
      "The string is a palindrome\n"
     ]
    }
   ],
   "source": [
    "my_string = input('enter a string')\n",
    "if my_string == my_string[::-1]:\n",
    "    print('The string is a palindrome')\n",
    "else:\n",
    "    print('the string is not a palindrome')"
   ]
  },
  {
   "cell_type": "markdown",
   "id": "b11c0a3e-ce88-4f78-8348-8e34b47cd677",
   "metadata": {},
   "source": [
    "3. Convert a string to uppercase."
   ]
  },
  {
   "cell_type": "code",
   "execution_count": 5,
   "id": "a08c1dca-2d19-4e49-bb2f-18ff25cc7f4a",
   "metadata": {},
   "outputs": [
    {
     "name": "stdin",
     "output_type": "stream",
     "text": [
      "enter a string Heelo\n"
     ]
    },
    {
     "name": "stdout",
     "output_type": "stream",
     "text": [
      "HEELO\n"
     ]
    }
   ],
   "source": [
    "my_string = input('enter a string')\n",
    "print(my_string.upper())"
   ]
  },
  {
   "cell_type": "markdown",
   "id": "79af7da1-a2b3-493d-bd52-8adf0f9a1fac",
   "metadata": {},
   "source": [
    "4. Convert a string to lowercase."
   ]
  },
  {
   "cell_type": "code",
   "execution_count": 1,
   "id": "a10d5096-2672-4ace-86e8-e74ee5f65b9d",
   "metadata": {},
   "outputs": [
    {
     "name": "stdin",
     "output_type": "stream",
     "text": [
      "enter a string HESLSOsasdaIOO12\n"
     ]
    },
    {
     "name": "stdout",
     "output_type": "stream",
     "text": [
      "heslsosasdaioo12\n"
     ]
    }
   ],
   "source": [
    "my_string = input('enter a string')\n",
    "print(my_string.lower())"
   ]
  },
  {
   "cell_type": "markdown",
   "id": "c29b0dea-4735-468e-bbe5-d7f9bc6be228",
   "metadata": {},
   "source": [
    "5. Count the number of vowels in a string."
   ]
  },
  {
   "cell_type": "code",
   "execution_count": 10,
   "id": "0969456f-d9f7-48bf-bec8-4112260343f5",
   "metadata": {},
   "outputs": [
    {
     "name": "stdin",
     "output_type": "stream",
     "text": [
      "enter a string HELLO WORLD\n"
     ]
    },
    {
     "name": "stdout",
     "output_type": "stream",
     "text": [
      "Total vowels in the string is 3\n"
     ]
    }
   ],
   "source": [
    "vowels = ['a','e','i','o','u']\n",
    "count=0\n",
    "my_string = input('enter a string')\n",
    "for x in my_string.lower():\n",
    "    if x in vowels:\n",
    "        count+=1\n",
    "    else:\n",
    "        pass\n",
    "\n",
    "print(f'Total vowels in the string is {count}')"
   ]
  },
  {
   "cell_type": "markdown",
   "id": "e238f7f1-821e-4d83-ba79-01d3fcfc1ee0",
   "metadata": {},
   "source": [
    "6. Count the number of consonants in a string.\n"
   ]
  },
  {
   "cell_type": "code",
   "execution_count": 23,
   "id": "3d4ec081-330b-4b19-9f94-954737839fc1",
   "metadata": {},
   "outputs": [
    {
     "name": "stdin",
     "output_type": "stream",
     "text": [
      "enter a string 121\n"
     ]
    },
    {
     "name": "stdout",
     "output_type": "stream",
     "text": [
      "Total consonants in the string is 0\n"
     ]
    }
   ],
   "source": [
    "vowels = ['a','e','i','o','u']\n",
    "count=0\n",
    "my_string = input('enter a string')\n",
    "for x in my_string.lower():\n",
    "    if x not in vowels:\n",
    "        if x.isnumeric()==0:\n",
    "            count=count+1\n",
    "        \n",
    "    else:\n",
    "        pass\n",
    "\n",
    "print(f'Total consonants in the string is {count}')"
   ]
  },
  {
   "cell_type": "markdown",
   "id": "bf7c05f7-f51c-403f-b9e1-4a37afa6e1cc",
   "metadata": {},
   "source": [
    "7. Remove all whitespaces from a string."
   ]
  },
  {
   "cell_type": "code",
   "execution_count": 25,
   "id": "76fbcb52-6395-4459-adfb-33e5102445d5",
   "metadata": {},
   "outputs": [
    {
     "name": "stdin",
     "output_type": "stream",
     "text": [
      "enter a string H E L L O\n"
     ]
    },
    {
     "name": "stdout",
     "output_type": "stream",
     "text": [
      "HELLO\n"
     ]
    }
   ],
   "source": [
    "my_string = input('enter a string')\n",
    "new_string = my_string.replace(\" \",\"\")\n",
    "print(new_string)"
   ]
  },
  {
   "cell_type": "markdown",
   "id": "64fcf590-6712-4d9e-9686-2c398ad19f01",
   "metadata": {},
   "source": [
    "8. Find the length of a string without using the `len()` function.\n"
   ]
  },
  {
   "cell_type": "code",
   "execution_count": 27,
   "id": "a8aa1287-766f-4cfd-a80a-368a80bbfdc5",
   "metadata": {},
   "outputs": [
    {
     "name": "stdin",
     "output_type": "stream",
     "text": [
      "enter a string Hello\n"
     ]
    },
    {
     "name": "stdout",
     "output_type": "stream",
     "text": [
      "the length of the string is 5\n"
     ]
    }
   ],
   "source": [
    "my_string = input('enter a string')\n",
    "count=0\n",
    "for x in my_string:\n",
    "    count+=1\n",
    "\n",
    "print(f'the length of the string is {count}')"
   ]
  },
  {
   "cell_type": "markdown",
   "id": "41201732-3c96-4d4f-b65b-69fe00e37b85",
   "metadata": {},
   "source": [
    "9. Check if a string contains a specific word."
   ]
  },
  {
   "cell_type": "code",
   "execution_count": 32,
   "id": "1fe1a57d-ca2e-4256-91ef-7ebf733cc0ae",
   "metadata": {},
   "outputs": [
    {
     "name": "stdin",
     "output_type": "stream",
     "text": [
      "enter a string Hello World\n",
      "enter word or\n"
     ]
    },
    {
     "name": "stdout",
     "output_type": "stream",
     "text": [
      "the word or is in the string Hello World\n"
     ]
    }
   ],
   "source": [
    "my_string = input('enter a string')\n",
    "my_word = input('enter word')\n",
    "if my_word in my_string:\n",
    "    print(f'the word {my_word} is in the string {my_string}')\n",
    "else:\n",
    "    print(f'the word {my_word} is not in the string {my_string}')"
   ]
  },
  {
   "cell_type": "markdown",
   "id": "09ed693c-2661-4a92-8745-afee63d3ab92",
   "metadata": {},
   "source": [
    "10. Replace a word in a string with another word."
   ]
  },
  {
   "cell_type": "code",
   "execution_count": 34,
   "id": "fd6b0b14-f5e9-4151-bae2-fe63e8d1e214",
   "metadata": {},
   "outputs": [
    {
     "name": "stdin",
     "output_type": "stream",
     "text": [
      "enter a string Hello World\n",
      "enter the word to replace World\n",
      "enter a word Smiti\n"
     ]
    },
    {
     "name": "stdout",
     "output_type": "stream",
     "text": [
      "Hello Smiti\n"
     ]
    }
   ],
   "source": [
    "my_string = input('enter a string')\n",
    "replaced_word = input('enter the word to replace')\n",
    "new_word = input('enter a word')\n",
    "new_string = my_string.replace(replaced_word,new_word)\n",
    "print(new_string)"
   ]
  },
  {
   "cell_type": "markdown",
   "id": "d4ae3e81-4848-4ee6-a720-cba59d9ab271",
   "metadata": {},
   "source": [
    "### List Based Practice Problem :"
   ]
  },
  {
   "cell_type": "markdown",
   "id": "f53feea8-46f6-4c17-a1ce-cc470c75fce5",
   "metadata": {},
   "source": [
    "1. Create a list with integers from 1 to 10."
   ]
  },
  {
   "cell_type": "code",
   "execution_count": 36,
   "id": "7be886cd-d705-487b-aabe-32c4dbfd2ef7",
   "metadata": {},
   "outputs": [
    {
     "name": "stdout",
     "output_type": "stream",
     "text": [
      "[1, 2, 3, 4, 5, 6, 7, 8, 9, 10]\n"
     ]
    }
   ],
   "source": [
    "my_list=[]\n",
    "for x in range(1,11):\n",
    "    my_list.append(x)\n",
    "\n",
    "print(my_list)"
   ]
  },
  {
   "cell_type": "markdown",
   "id": "16a89a5d-faa4-4a2c-aeaa-0c791de3f334",
   "metadata": {},
   "source": [
    "2. Find the length of a list without using the `len()` function."
   ]
  },
  {
   "cell_type": "code",
   "execution_count": 41,
   "id": "adad917c-e4eb-49a3-ac5a-47a2ef9ed901",
   "metadata": {},
   "outputs": [
    {
     "name": "stdin",
     "output_type": "stream",
     "text": [
      "enter a string hello\n"
     ]
    },
    {
     "name": "stdout",
     "output_type": "stream",
     "text": [
      "['h', 'e', 'l', 'l', 'o']\n",
      "5\n"
     ]
    }
   ],
   "source": [
    "count=0\n",
    "my_list=[]\n",
    "my_string = input('enter a string')\n",
    "my_list.extend(my_string)\n",
    "print(my_list)\n",
    "for x in my_list:\n",
    "    count+=1\n",
    "print(count)"
   ]
  },
  {
   "cell_type": "markdown",
   "id": "836eb63a-63e4-46cb-a9f5-3106a2872a4b",
   "metadata": {},
   "source": [
    "3. Append an element to the end of a list."
   ]
  },
  {
   "cell_type": "code",
   "execution_count": 10,
   "id": "eb187da3-e97e-459d-bd64-48636193a713",
   "metadata": {},
   "outputs": [
    {
     "name": "stdin",
     "output_type": "stream",
     "text": [
      "enter something to append to the list hello\n"
     ]
    },
    {
     "data": {
      "text/plain": [
       "[1, 2, 'hello']"
      ]
     },
     "execution_count": 10,
     "metadata": {},
     "output_type": "execute_result"
    }
   ],
   "source": [
    "l=[1,2]\n",
    "x=input(\"enter something to append to the list\")\n",
    "l.append(x)\n",
    "l"
   ]
  },
  {
   "cell_type": "markdown",
   "id": "77aec5a3-c04c-4ee7-a3ee-e99b3d2f838e",
   "metadata": {},
   "source": [
    "4. Insert an element at a specific index in a list."
   ]
  },
  {
   "cell_type": "code",
   "execution_count": 3,
   "id": "6b07547c-5810-4c66-b229-bb81938676af",
   "metadata": {},
   "outputs": [],
   "source": [
    "l=[1,2,3,4]\n",
    "x=123\n",
    "#putting x at index 2\n",
    "l.insert(2,x)"
   ]
  },
  {
   "cell_type": "code",
   "execution_count": 4,
   "id": "57e4e8d6-d454-41d3-bd11-9b75b1dbbf01",
   "metadata": {},
   "outputs": [
    {
     "data": {
      "text/plain": [
       "[1, 2, 123, 3, 4]"
      ]
     },
     "execution_count": 4,
     "metadata": {},
     "output_type": "execute_result"
    }
   ],
   "source": [
    "l"
   ]
  },
  {
   "cell_type": "markdown",
   "id": "93ee4206-df92-45de-a6ab-087eb9edcabf",
   "metadata": {},
   "source": [
    "5. Remove an element from a list by its value."
   ]
  },
  {
   "cell_type": "code",
   "execution_count": 5,
   "id": "b3eff767-d376-499c-b22a-6a20a52e2f82",
   "metadata": {},
   "outputs": [],
   "source": [
    "l=[1,2,3,4,5]\n",
    "l.remove(2)"
   ]
  },
  {
   "cell_type": "code",
   "execution_count": 6,
   "id": "fc435ed4-4a1c-493e-905c-afade08a693e",
   "metadata": {},
   "outputs": [
    {
     "data": {
      "text/plain": [
       "[1, 3, 4, 5]"
      ]
     },
     "execution_count": 6,
     "metadata": {},
     "output_type": "execute_result"
    }
   ],
   "source": [
    "l"
   ]
  },
  {
   "cell_type": "markdown",
   "id": "9a181742-a5a8-469f-bc73-3fbf88cbd79e",
   "metadata": {},
   "source": [
    "6. Remove an element from a list by its index."
   ]
  },
  {
   "cell_type": "code",
   "execution_count": 7,
   "id": "ed6719f8-06fa-4631-a184-a4dae931d631",
   "metadata": {},
   "outputs": [
    {
     "data": {
      "text/plain": [
       "6"
      ]
     },
     "execution_count": 7,
     "metadata": {},
     "output_type": "execute_result"
    }
   ],
   "source": [
    "l=[1,2,3,4,5,6,7,8,9]\n",
    "l.pop(5)"
   ]
  },
  {
   "cell_type": "code",
   "execution_count": 8,
   "id": "6c892daa-081c-4dba-80a8-d0a9fad5b39a",
   "metadata": {},
   "outputs": [
    {
     "data": {
      "text/plain": [
       "[1, 2, 3, 4, 5, 7, 8, 9]"
      ]
     },
     "execution_count": 8,
     "metadata": {},
     "output_type": "execute_result"
    }
   ],
   "source": [
    "l"
   ]
  },
  {
   "cell_type": "markdown",
   "id": "0769895c-c176-4c00-a562-2d3e1000f4f5",
   "metadata": {},
   "source": [
    "7. Check if an element exists in a list."
   ]
  },
  {
   "cell_type": "code",
   "execution_count": 14,
   "id": "252faea2-605c-4cde-9192-3ba1ca8a8105",
   "metadata": {},
   "outputs": [
    {
     "name": "stdin",
     "output_type": "stream",
     "text": [
      "enter a num to check in List 0\n"
     ]
    },
    {
     "name": "stdout",
     "output_type": "stream",
     "text": [
      "False\n"
     ]
    }
   ],
   "source": [
    "l=[1,2,3,4,5,6,7,8,9]\n",
    "x=int(input('enter a num to check in List'))\n",
    "if x in l:\n",
    "     print('True')\n",
    "else:\n",
    "    print('False')"
   ]
  },
  {
   "cell_type": "markdown",
   "id": "c47444d8-de52-4874-9b2d-45585c0f689f",
   "metadata": {},
   "source": [
    "8. Find the index of the first occurrence of an element in a list."
   ]
  },
  {
   "cell_type": "code",
   "execution_count": 17,
   "id": "de353fee-f0c6-4138-a8a4-cfa489bb9873",
   "metadata": {},
   "outputs": [
    {
     "data": {
      "text/plain": [
       "7"
      ]
     },
     "execution_count": 17,
     "metadata": {},
     "output_type": "execute_result"
    }
   ],
   "source": [
    "l=[1,2,3,4,5,6,7,8,9,8]\n",
    "l.index(8)"
   ]
  },
  {
   "cell_type": "markdown",
   "id": "c5be3db4-b000-439a-b31d-14fd1bf00ad9",
   "metadata": {},
   "source": [
    "9. Count the occurrences of an element in a list."
   ]
  },
  {
   "cell_type": "code",
   "execution_count": 18,
   "id": "f45349ec-f38e-4c15-8cbc-85e9e3e35ee4",
   "metadata": {},
   "outputs": [
    {
     "data": {
      "text/plain": [
       "4"
      ]
     },
     "execution_count": 18,
     "metadata": {},
     "output_type": "execute_result"
    }
   ],
   "source": [
    "l=[1,1,1,2,3,4,2,2,5,5,5,5]\n",
    "l.count(5)"
   ]
  },
  {
   "cell_type": "markdown",
   "id": "ae45363c-4d4c-4775-8047-6812f579c1e2",
   "metadata": {},
   "source": [
    "10. Reverse the order of elements in a list."
   ]
  },
  {
   "cell_type": "code",
   "execution_count": 19,
   "id": "7f121c9b-a556-42bb-aeac-eeae3114e3d2",
   "metadata": {},
   "outputs": [
    {
     "data": {
      "text/plain": [
       "[5, 5, 5, 5, 2, 2, 4, 3, 2, 1, 1, 1]"
      ]
     },
     "execution_count": 19,
     "metadata": {},
     "output_type": "execute_result"
    }
   ],
   "source": [
    "l=[1,1,1,2,3,4,2,2,5,5,5,5]\n",
    "l=l[::-1]\n",
    "l"
   ]
  },
  {
   "cell_type": "code",
   "execution_count": 1,
   "id": "54a8c949-96cc-4b08-bcc8-1a0977d18c64",
   "metadata": {},
   "outputs": [],
   "source": [
    "X='abcd'"
   ]
  },
  {
   "cell_type": "code",
   "execution_count": 2,
   "id": "f8cae736-8066-4993-8ec3-a42ee46a2120",
   "metadata": {},
   "outputs": [
    {
     "data": {
      "text/plain": [
       "'ABCD'"
      ]
     },
     "execution_count": 2,
     "metadata": {},
     "output_type": "execute_result"
    }
   ],
   "source": [
    "X.upper()"
   ]
  },
  {
   "cell_type": "code",
   "execution_count": 3,
   "id": "ac77edd2-1b67-49fe-9ef0-82e2991b383f",
   "metadata": {},
   "outputs": [
    {
     "data": {
      "text/plain": [
       "'abcd'"
      ]
     },
     "execution_count": 3,
     "metadata": {},
     "output_type": "execute_result"
    }
   ],
   "source": [
    "X"
   ]
  },
  {
   "cell_type": "markdown",
   "id": "f77b30dc-7e79-41d4-b99a-35138d6a74d5",
   "metadata": {},
   "source": [
    "## Tuple Based Practice Problem :"
   ]
  },
  {
   "cell_type": "markdown",
   "id": "05e72740-d75d-4507-9004-310b97d41058",
   "metadata": {},
   "source": [
    "1. Create a tuple with integers from 1 to 5."
   ]
  },
  {
   "cell_type": "code",
   "execution_count": 43,
   "id": "5f63f47d-d785-4bf6-a427-f7be8df9127d",
   "metadata": {},
   "outputs": [
    {
     "data": {
      "text/plain": [
       "(1, 2, 3, 4, 5)"
      ]
     },
     "execution_count": 43,
     "metadata": {},
     "output_type": "execute_result"
    }
   ],
   "source": [
    "t=tuple(range(1,6))\n",
    "t"
   ]
  },
  {
   "cell_type": "markdown",
   "id": "6d9d2397-7899-448a-8a6d-afe6cfed6f00",
   "metadata": {},
   "source": [
    "2. Access the third element of a tuple."
   ]
  },
  {
   "cell_type": "code",
   "execution_count": 9,
   "id": "9b585bc8-a98f-4f39-b6c6-4f0afbc149cd",
   "metadata": {},
   "outputs": [
    {
     "data": {
      "text/plain": [
       "3"
      ]
     },
     "execution_count": 9,
     "metadata": {},
     "output_type": "execute_result"
    }
   ],
   "source": [
    "t[2]"
   ]
  },
  {
   "cell_type": "markdown",
   "id": "cdd71125-c3bc-4fb3-b0e8-303c0aec4b8d",
   "metadata": {},
   "source": [
    "3. Find the length of a tuple without using the `len()` function."
   ]
  },
  {
   "cell_type": "code",
   "execution_count": 10,
   "id": "f4592148-79d5-4045-a7e8-b38ca1017da5",
   "metadata": {},
   "outputs": [
    {
     "name": "stdout",
     "output_type": "stream",
     "text": [
      "5\n"
     ]
    }
   ],
   "source": [
    "t=(1,2,3,4,5)\n",
    "count=0\n",
    "for x in t:\n",
    "    count+=1\n",
    "print(count)"
   ]
  },
  {
   "cell_type": "markdown",
   "id": "bf920f95-0bd4-44cf-8580-6df87b6a0498",
   "metadata": {},
   "source": [
    "4. Count the occurrences of an element in a tuple."
   ]
  },
  {
   "cell_type": "code",
   "execution_count": 13,
   "id": "b6db760c-8681-4883-a480-d1fbad0f5387",
   "metadata": {},
   "outputs": [
    {
     "data": {
      "text/plain": [
       "1"
      ]
     },
     "execution_count": 13,
     "metadata": {},
     "output_type": "execute_result"
    }
   ],
   "source": [
    "t=(1,2,3,4,5,1,2,2,3,4,4,4,5,5,6,66,6,6)\n",
    "t.count(66)\n"
   ]
  },
  {
   "cell_type": "markdown",
   "id": "079cbd18-b332-4f75-a48e-27ef1b54118a",
   "metadata": {},
   "source": [
    "5. Find the index of the first occurrence of an element in a tuple."
   ]
  },
  {
   "cell_type": "code",
   "execution_count": 14,
   "id": "e5cf9740-2fe3-43aa-bd33-a378b3939ebc",
   "metadata": {},
   "outputs": [
    {
     "data": {
      "text/plain": [
       "2"
      ]
     },
     "execution_count": 14,
     "metadata": {},
     "output_type": "execute_result"
    }
   ],
   "source": [
    "t=(1,2,3,4,5,1,2,2,3,4,4,4,5,5,6,66,6,6)\n",
    "t.index(3)"
   ]
  },
  {
   "cell_type": "markdown",
   "id": "8ea8745e-9506-4bef-8b01-7b4c1419156b",
   "metadata": {},
   "source": [
    "6. Check if an element exists in a tuple."
   ]
  },
  {
   "cell_type": "code",
   "execution_count": 17,
   "id": "82390ddf-fcce-48f0-9a45-24b2db856d5c",
   "metadata": {},
   "outputs": [
    {
     "name": "stdin",
     "output_type": "stream",
     "text": [
      "enter num to check 67\n"
     ]
    },
    {
     "name": "stdout",
     "output_type": "stream",
     "text": [
      "False\n"
     ]
    }
   ],
   "source": [
    "t=(1,2,3,4,5,1,2,2,3,4,4,4,5,5,6,66,6,6)\n",
    "x = int(input('enter num to check'))\n",
    "if x in t:\n",
    "    print('True')\n",
    "else:\n",
    "    print('False')"
   ]
  },
  {
   "cell_type": "markdown",
   "id": "164e822d-1895-4f57-87d4-7b046286373b",
   "metadata": {},
   "source": [
    "7. Convert a tuple to a list."
   ]
  },
  {
   "cell_type": "code",
   "execution_count": 19,
   "id": "7c1daa6c-b8d6-4e4f-82f8-af77c98270b8",
   "metadata": {},
   "outputs": [
    {
     "data": {
      "text/plain": [
       "[1, 2, 3, 4, 5, 1, 2, 2, 3, 4, 4, 4, 5, 5, 6, 66, 6, 6]"
      ]
     },
     "execution_count": 19,
     "metadata": {},
     "output_type": "execute_result"
    }
   ],
   "source": [
    "t=(1,2,3,4,5,1,2,2,3,4,4,4,5,5,6,66,6,6)\n",
    "x=list(t)\n",
    "x"
   ]
  },
  {
   "cell_type": "markdown",
   "id": "20848869-543d-43d9-b62b-ab5ad7d409ac",
   "metadata": {},
   "source": [
    "8. Convert a list to a tuple."
   ]
  },
  {
   "cell_type": "code",
   "execution_count": 21,
   "id": "a4edf899-71be-4648-961e-3cf23dc72647",
   "metadata": {},
   "outputs": [
    {
     "data": {
      "text/plain": [
       "(1, 2, 3, 4, 5, 1, 2, 2, 3, 4, 4, 4, 5, 5, 6, 66, 6, 6)"
      ]
     },
     "execution_count": 21,
     "metadata": {},
     "output_type": "execute_result"
    }
   ],
   "source": [
    "t=tuple(x)\n",
    "t"
   ]
  },
  {
   "cell_type": "markdown",
   "id": "34a99450-e0c0-4d70-bbd0-2bd09dbf9960",
   "metadata": {},
   "source": [
    "9. Unpack the elements of a tuple into variables."
   ]
  },
  {
   "cell_type": "code",
   "execution_count": 23,
   "id": "a8042bec-bfe0-404e-943e-a5147c02916d",
   "metadata": {},
   "outputs": [
    {
     "name": "stdout",
     "output_type": "stream",
     "text": [
      "1\n",
      "2\n",
      "3\n",
      "4\n"
     ]
    }
   ],
   "source": [
    "t1=(1,2,3,4)\n",
    "a,b,c,d = t1\n",
    "print(a)\n",
    "print(b)\n",
    "print(c)\n",
    "print(d)"
   ]
  },
  {
   "cell_type": "markdown",
   "id": "06a46535-40c1-42fa-ac6a-fb269c8613cf",
   "metadata": {},
   "source": [
    "10. Create a tuple of even numbers from 1 to 10."
   ]
  },
  {
   "cell_type": "code",
   "execution_count": 46,
   "id": "24687ce6-e915-4a97-bddb-8b0210156d2b",
   "metadata": {},
   "outputs": [
    {
     "data": {
      "text/plain": [
       "(2, 4, 6, 8, 10)"
      ]
     },
     "execution_count": 46,
     "metadata": {},
     "output_type": "execute_result"
    }
   ],
   "source": [
    "t=tuple(range(2,11,2))\n",
    "t"
   ]
  },
  {
   "cell_type": "markdown",
   "id": "1fb4d497-6ca1-48d0-b8bb-cf29c01ff31e",
   "metadata": {},
   "source": [
    "## Set Based Practice Problem :"
   ]
  },
  {
   "cell_type": "markdown",
   "id": "bc76de9d-3cac-4cac-9876-4ff1eccdaf79",
   "metadata": {},
   "source": [
    "1. Create a set with integers from 1 to 5."
   ]
  },
  {
   "cell_type": "code",
   "execution_count": 2,
   "id": "948b3b56-c1e5-40e7-82f9-89a0de959676",
   "metadata": {},
   "outputs": [],
   "source": [
    "s=set(range(1,5))"
   ]
  },
  {
   "cell_type": "code",
   "execution_count": 3,
   "id": "4c458dee-f468-4dae-98d2-fd354e208c91",
   "metadata": {},
   "outputs": [
    {
     "data": {
      "text/plain": [
       "{1, 2, 3, 4}"
      ]
     },
     "execution_count": 3,
     "metadata": {},
     "output_type": "execute_result"
    }
   ],
   "source": [
    "s"
   ]
  },
  {
   "cell_type": "markdown",
   "id": "1a5ea21f-bad6-466d-a5dd-82b909870aab",
   "metadata": {},
   "source": [
    "2. Add an element to a set."
   ]
  },
  {
   "cell_type": "code",
   "execution_count": 7,
   "id": "15d1d1fd-7c82-4d2b-b6a0-a94bb05c0aa1",
   "metadata": {},
   "outputs": [
    {
     "data": {
      "text/plain": [
       "{1, 2, 3, 4, 6}"
      ]
     },
     "execution_count": 7,
     "metadata": {},
     "output_type": "execute_result"
    }
   ],
   "source": [
    "s.add(6)\n",
    "s"
   ]
  },
  {
   "cell_type": "markdown",
   "id": "7a757bd1-d298-48cd-ba21-027b8849adb2",
   "metadata": {},
   "source": [
    "3. Remove an element from a set."
   ]
  },
  {
   "cell_type": "code",
   "execution_count": 8,
   "id": "4ca322b7-8719-44e9-9593-bb5409577902",
   "metadata": {},
   "outputs": [
    {
     "data": {
      "text/plain": [
       "{1, 2, 3, 4}"
      ]
     },
     "execution_count": 8,
     "metadata": {},
     "output_type": "execute_result"
    }
   ],
   "source": [
    "s.remove(6)\n",
    "s"
   ]
  },
  {
   "cell_type": "markdown",
   "id": "2719b947-ad98-4f85-a64e-71d30acc1aa5",
   "metadata": {},
   "source": [
    "4. Check if an element exists in a set."
   ]
  },
  {
   "cell_type": "code",
   "execution_count": 11,
   "id": "d8b4764a-528a-4644-ad42-8c5c42117829",
   "metadata": {},
   "outputs": [
    {
     "name": "stdout",
     "output_type": "stream",
     "text": [
      "True\n"
     ]
    }
   ],
   "source": [
    "s\n",
    "x=4\n",
    "if x in s:\n",
    "    print('True')\n",
    "else:\n",
    "    print('False')"
   ]
  },
  {
   "cell_type": "markdown",
   "id": "3d43bdbf-7fa1-46cc-a17d-64c08af77a64",
   "metadata": {},
   "source": [
    "5. Find the length of a set without using the `len()` function."
   ]
  },
  {
   "cell_type": "code",
   "execution_count": 14,
   "id": "008ea7d3-0556-44eb-a3f2-15437cb12f09",
   "metadata": {},
   "outputs": [
    {
     "name": "stdout",
     "output_type": "stream",
     "text": [
      "6\n"
     ]
    }
   ],
   "source": [
    "count=0\n",
    "s={1,2,3,4,5,6,5}\n",
    "for x in s:\n",
    "    count+=1\n",
    "print(count)"
   ]
  },
  {
   "cell_type": "markdown",
   "id": "ef83d8c6-da34-417e-bdb7-454f8d06205d",
   "metadata": {},
   "source": [
    "6. Clear all elements from a set."
   ]
  },
  {
   "cell_type": "code",
   "execution_count": 15,
   "id": "213dc699-f0f1-4d8a-a607-53c4f4f50980",
   "metadata": {},
   "outputs": [],
   "source": [
    "s.clear()"
   ]
  },
  {
   "cell_type": "code",
   "execution_count": 16,
   "id": "c9d6f016-74a9-4bbc-af54-e2e405092a67",
   "metadata": {},
   "outputs": [
    {
     "data": {
      "text/plain": [
       "set()"
      ]
     },
     "execution_count": 16,
     "metadata": {},
     "output_type": "execute_result"
    }
   ],
   "source": [
    "s"
   ]
  },
  {
   "cell_type": "markdown",
   "id": "c9ba388b-d663-4c0e-ba0c-5d2ee4922b57",
   "metadata": {},
   "source": [
    "7. Create a set of even numbers from 1 to 10."
   ]
  },
  {
   "cell_type": "code",
   "execution_count": 17,
   "id": "1b3fdb5d-7364-4536-8ba6-34283202f3df",
   "metadata": {},
   "outputs": [],
   "source": [
    "s1= set(range(2,11,2))"
   ]
  },
  {
   "cell_type": "code",
   "execution_count": 18,
   "id": "79b9d99f-6efd-4021-bbb0-323cc97a2717",
   "metadata": {},
   "outputs": [
    {
     "data": {
      "text/plain": [
       "{2, 4, 6, 8, 10}"
      ]
     },
     "execution_count": 18,
     "metadata": {},
     "output_type": "execute_result"
    }
   ],
   "source": [
    "s1"
   ]
  },
  {
   "cell_type": "markdown",
   "id": "c7353dc0-e185-433a-a06f-0a5a4765fd13",
   "metadata": {},
   "source": [
    "8. Create a set of odd numbers from 1 to 10."
   ]
  },
  {
   "cell_type": "code",
   "execution_count": 20,
   "id": "dbbdc6fc-8fba-4215-9ff4-131340043752",
   "metadata": {},
   "outputs": [],
   "source": [
    "s2 = set(range(1,11,2))"
   ]
  },
  {
   "cell_type": "code",
   "execution_count": 21,
   "id": "fb4e8c7b-66b8-471d-a5e3-ad3897d6321e",
   "metadata": {},
   "outputs": [
    {
     "data": {
      "text/plain": [
       "{1, 3, 5, 7, 9}"
      ]
     },
     "execution_count": 21,
     "metadata": {},
     "output_type": "execute_result"
    }
   ],
   "source": [
    "s2"
   ]
  },
  {
   "cell_type": "markdown",
   "id": "0e549d25-6ae8-41c3-b5d2-cd33fcd1271c",
   "metadata": {},
   "source": [
    "9. Find the union of two sets."
   ]
  },
  {
   "cell_type": "code",
   "execution_count": 28,
   "id": "5edb33f7-ddfe-442e-8782-644e6b55261d",
   "metadata": {},
   "outputs": [
    {
     "data": {
      "text/plain": [
       "{1, 2, 3, 4, 5, 6, 7, 8, 9, 10}"
      ]
     },
     "execution_count": 28,
     "metadata": {},
     "output_type": "execute_result"
    }
   ],
   "source": [
    "s1\n",
    "s2\n",
    "s3=s1.union(s2)\n",
    "s3"
   ]
  },
  {
   "cell_type": "markdown",
   "id": "11465728-f95a-42cd-9dcf-1a9b8a422f0b",
   "metadata": {},
   "source": [
    "10. Find the intersection of two sets."
   ]
  },
  {
   "cell_type": "code",
   "execution_count": 35,
   "id": "e3744d32-5814-410c-ac7a-c62861574ddb",
   "metadata": {},
   "outputs": [],
   "source": [
    "s4=set([2,4,1,2])"
   ]
  },
  {
   "cell_type": "code",
   "execution_count": 36,
   "id": "c951372c-3cf6-4411-b028-bb8c46cbb57c",
   "metadata": {},
   "outputs": [
    {
     "data": {
      "text/plain": [
       "{1, 2, 4}"
      ]
     },
     "execution_count": 36,
     "metadata": {},
     "output_type": "execute_result"
    }
   ],
   "source": [
    "s4.intersection(s3)"
   ]
  },
  {
   "cell_type": "markdown",
   "id": "876a0610-ecd6-4a81-8c31-d084946b54a7",
   "metadata": {},
   "source": [
    "## TOPIC: String Based Assignment Problem 11-20"
   ]
  },
  {
   "cell_type": "markdown",
   "id": "c6983907-d3d6-4f1c-8b5d-d1e127a1f764",
   "metadata": {},
   "source": [
    "11. Count the occurrences of a word in a string."
   ]
  },
  {
   "cell_type": "code",
   "execution_count": 2,
   "id": "7eb5ce39-89f1-4deb-8e96-36c5a7d5260e",
   "metadata": {},
   "outputs": [
    {
     "data": {
      "text/plain": [
       "2"
      ]
     },
     "execution_count": 2,
     "metadata": {},
     "output_type": "execute_result"
    }
   ],
   "source": [
    "s = 'sup hello world hello India'\n",
    "s.count('hello')"
   ]
  },
  {
   "cell_type": "markdown",
   "id": "26e9e76d-2fe2-43fb-8047-b262a4bd244f",
   "metadata": {},
   "source": [
    "12. Find the first occurrence of a word in a string."
   ]
  },
  {
   "cell_type": "code",
   "execution_count": 3,
   "id": "6d236263-aab3-405e-9f48-f962467339be",
   "metadata": {},
   "outputs": [
    {
     "data": {
      "text/plain": [
       "1"
      ]
     },
     "execution_count": 3,
     "metadata": {},
     "output_type": "execute_result"
    }
   ],
   "source": [
    "s.split().index('hello')"
   ]
  },
  {
   "cell_type": "markdown",
   "id": "337e220b-2c73-4887-9c51-2b5f31637dbc",
   "metadata": {},
   "source": [
    "13. Find the last occurrence of a word in a string."
   ]
  },
  {
   "cell_type": "code",
   "execution_count": 9,
   "id": "2ee28cf1-f64b-4511-af8d-9555e9611429",
   "metadata": {},
   "outputs": [
    {
     "data": {
      "text/plain": [
       "17"
      ]
     },
     "execution_count": 9,
     "metadata": {},
     "output_type": "execute_result"
    }
   ],
   "source": [
    "s.rfind('el')"
   ]
  },
  {
   "cell_type": "markdown",
   "id": "6af1fda6-22ad-41f5-abb7-be9c6db7b625",
   "metadata": {},
   "source": [
    "14. Split a string into a list of words."
   ]
  },
  {
   "cell_type": "code",
   "execution_count": 10,
   "id": "aa691c01-939f-4fad-ab6d-c25ef1423372",
   "metadata": {},
   "outputs": [],
   "source": [
    "l1=s.split(' ')"
   ]
  },
  {
   "cell_type": "code",
   "execution_count": 11,
   "id": "503c521d-fcdd-4041-b4b0-b174ed48de80",
   "metadata": {},
   "outputs": [
    {
     "data": {
      "text/plain": [
       "['sup', 'hello', 'world', 'hello', 'India']"
      ]
     },
     "execution_count": 11,
     "metadata": {},
     "output_type": "execute_result"
    }
   ],
   "source": [
    "l1"
   ]
  },
  {
   "cell_type": "markdown",
   "id": "07fee8b9-3e53-46d4-8bbb-f20c679809a5",
   "metadata": {},
   "source": [
    "15. Join a list of words into a string."
   ]
  },
  {
   "cell_type": "code",
   "execution_count": 13,
   "id": "32e7f70f-2260-4ca2-bb86-5efab66ccd35",
   "metadata": {},
   "outputs": [
    {
     "data": {
      "text/plain": [
       "'sup hello world hello India'"
      ]
     },
     "execution_count": 13,
     "metadata": {},
     "output_type": "execute_result"
    }
   ],
   "source": [
    "\" \".join(l1)"
   ]
  },
  {
   "cell_type": "markdown",
   "id": "58faaf68-d09e-4a97-961c-921d74194706",
   "metadata": {},
   "source": [
    "16. Convert a string where words are separated by spaces to one where words\n",
    "are separated by underscores."
   ]
  },
  {
   "cell_type": "code",
   "execution_count": 1,
   "id": "f0994bf4-fe68-45a0-ac2b-ecc7709c1a06",
   "metadata": {},
   "outputs": [
    {
     "data": {
      "text/plain": [
       "'hello_world_hello_India'"
      ]
     },
     "execution_count": 1,
     "metadata": {},
     "output_type": "execute_result"
    }
   ],
   "source": [
    "s = 'hello world hello India'\n",
    "s2 = s.replace(\" \",\"_\")\n",
    "s2"
   ]
  },
  {
   "cell_type": "markdown",
   "id": "3e49d137-c679-4e52-8c0c-e0ad45beb530",
   "metadata": {},
   "source": [
    "17. Check if a string starts with a specific word or phrase."
   ]
  },
  {
   "cell_type": "code",
   "execution_count": 4,
   "id": "c499073b-9344-4369-9e27-f41921482df1",
   "metadata": {},
   "outputs": [
    {
     "name": "stdout",
     "output_type": "stream",
     "text": [
      "the string starts with hello world\n"
     ]
    }
   ],
   "source": [
    "s = 'hello world hello India'\n",
    "x = 'hello world'\n",
    "if s.find(x) == 0:\n",
    "    print(f'the string starts with {x}')\n",
    "else:\n",
    "    print(f'the string doesnt start with {x}')"
   ]
  },
  {
   "cell_type": "markdown",
   "id": "9401372f-70c2-4001-8fb1-13c530b17cae",
   "metadata": {},
   "source": [
    "18. Check if a string ends with a specific word or phrase."
   ]
  },
  {
   "cell_type": "code",
   "execution_count": 7,
   "id": "07909021-c598-4ed1-9ef5-a4d3caef8258",
   "metadata": {},
   "outputs": [
    {
     "data": {
      "text/plain": [
       "False"
      ]
     },
     "execution_count": 7,
     "metadata": {},
     "output_type": "execute_result"
    }
   ],
   "source": [
    "s = 'hello world hello India'\n",
    "x = 'hello world'\n",
    "s.endswith(x)"
   ]
  },
  {
   "cell_type": "markdown",
   "id": "eb5b2582-f75d-4123-b941-ccefc58cf609",
   "metadata": {},
   "source": [
    "19. Convert a string to title case (e.g., \"hello world\" to \"Hello World\")."
   ]
  },
  {
   "cell_type": "code",
   "execution_count": 8,
   "id": "36501277-9700-4760-88f8-db3e2a199615",
   "metadata": {},
   "outputs": [
    {
     "data": {
      "text/plain": [
       "'Hello World Hello India'"
      ]
     },
     "execution_count": 8,
     "metadata": {},
     "output_type": "execute_result"
    }
   ],
   "source": [
    "s = 'hello world hello India'\n",
    "s3=s.title()\n",
    "s3"
   ]
  },
  {
   "cell_type": "markdown",
   "id": "16345c16-7825-4aa2-8628-4a0d841abe58",
   "metadata": {},
   "source": [
    "20. Find the longest word in a string."
   ]
  },
  {
   "cell_type": "code",
   "execution_count": 20,
   "id": "bc7f7ace-f475-4820-bcdb-75218bece90c",
   "metadata": {},
   "outputs": [
    {
     "name": "stdout",
     "output_type": "stream",
     "text": [
      "quick, brown, jumps, abcde\n"
     ]
    }
   ],
   "source": [
    "s = ' A quick brown fox jumps over the lazy dog abcde'\n",
    "l = s.split(\" \")\n",
    "word_len = 0\n",
    "word = \"\"\n",
    "for x in l:\n",
    "    if len(x)>word_len:\n",
    "        word_len = len(x)\n",
    "        word = x\n",
    "    elif len(x) == word_len:\n",
    "        word = word + \", \" +x\n",
    "print(word)"
   ]
  },
  {
   "cell_type": "markdown",
   "id": "2eb21eb0-6b4c-4392-bb67-b6b43cc4d789",
   "metadata": {},
   "source": [
    "## List Based Practice Problem 11-20"
   ]
  },
  {
   "cell_type": "markdown",
   "id": "6acfd08a-c048-4e61-829a-9beec911c7cd",
   "metadata": {},
   "source": [
    "11. Sort a list in ascending order."
   ]
  },
  {
   "cell_type": "code",
   "execution_count": 1,
   "id": "d86d2236-50b6-4767-9bea-ea38e355d2e3",
   "metadata": {},
   "outputs": [],
   "source": [
    "l=[5,6,1,2,33,123,4,2,1]\n",
    "l.sort()"
   ]
  },
  {
   "cell_type": "code",
   "execution_count": 2,
   "id": "5ea806fd-f31d-45e4-9653-5c77acf6136e",
   "metadata": {},
   "outputs": [
    {
     "data": {
      "text/plain": [
       "[1, 1, 2, 2, 4, 5, 6, 33, 123]"
      ]
     },
     "execution_count": 2,
     "metadata": {},
     "output_type": "execute_result"
    }
   ],
   "source": [
    "l"
   ]
  },
  {
   "cell_type": "markdown",
   "id": "4505c054-d646-485e-84a4-e41bc33eb37a",
   "metadata": {},
   "source": [
    "12. Sort a list in descending order."
   ]
  },
  {
   "cell_type": "code",
   "execution_count": 3,
   "id": "11e004cd-c437-45ae-891f-cee31990bd15",
   "metadata": {},
   "outputs": [],
   "source": [
    "l=[5,6,1,2,33,123,4,2,1]\n",
    "l.sort(reverse = True)"
   ]
  },
  {
   "cell_type": "code",
   "execution_count": 4,
   "id": "81a368ad-27a3-4d34-b4d3-19ed07e02987",
   "metadata": {},
   "outputs": [
    {
     "data": {
      "text/plain": [
       "[123, 33, 6, 5, 4, 2, 2, 1, 1]"
      ]
     },
     "execution_count": 4,
     "metadata": {},
     "output_type": "execute_result"
    }
   ],
   "source": [
    "l"
   ]
  },
  {
   "cell_type": "markdown",
   "id": "d730c551-1477-4829-8987-327d4b629e59",
   "metadata": {},
   "source": [
    "13. Create a list of even numbers from 1 to 20."
   ]
  },
  {
   "cell_type": "code",
   "execution_count": 5,
   "id": "41a74d7c-23ca-409d-ae83-2a34971bcfd6",
   "metadata": {},
   "outputs": [
    {
     "data": {
      "text/plain": [
       "[2, 4, 6, 8, 10, 12, 14, 16, 18, 20]"
      ]
     },
     "execution_count": 5,
     "metadata": {},
     "output_type": "execute_result"
    }
   ],
   "source": [
    "l1=list(range(2,21,2))\n",
    "l1"
   ]
  },
  {
   "cell_type": "code",
   "execution_count": 6,
   "id": "a34056db-d359-4b2d-9e42-d6818e62ee78",
   "metadata": {},
   "outputs": [
    {
     "data": {
      "text/plain": [
       "[1, 3, 5, 7, 9, 11, 13, 15, 17, 19]"
      ]
     },
     "execution_count": 6,
     "metadata": {},
     "output_type": "execute_result"
    }
   ],
   "source": [
    "l2=list(range(1,21,2))\n",
    "l2"
   ]
  },
  {
   "cell_type": "markdown",
   "id": "f0e4d260-be82-4361-9fd4-5922af00b0e4",
   "metadata": {},
   "source": [
    "15. Find the sum of all elements in a list."
   ]
  },
  {
   "cell_type": "code",
   "execution_count": 8,
   "id": "81a3f6d8-48e4-43a4-80ba-7d1311007f83",
   "metadata": {},
   "outputs": [
    {
     "data": {
      "text/plain": [
       "210"
      ]
     },
     "execution_count": 8,
     "metadata": {},
     "output_type": "execute_result"
    }
   ],
   "source": [
    "l=list(range(1,21))\n",
    "sum(l)"
   ]
  },
  {
   "cell_type": "markdown",
   "id": "07934cf1-1c48-4d2f-b436-ab7c0cbf9810",
   "metadata": {},
   "source": [
    "16. Find the maximum value in a list."
   ]
  },
  {
   "cell_type": "code",
   "execution_count": 9,
   "id": "3c097d9a-3b9f-4fb1-ae49-2a86b20edc2c",
   "metadata": {},
   "outputs": [
    {
     "data": {
      "text/plain": [
       "20"
      ]
     },
     "execution_count": 9,
     "metadata": {},
     "output_type": "execute_result"
    }
   ],
   "source": [
    "l=list(range(1,21))\n",
    "max(l)"
   ]
  },
  {
   "cell_type": "markdown",
   "id": "a0dae8d8-da31-4387-887e-9f662b47f6d0",
   "metadata": {},
   "source": [
    "17. Find the minimum value in a list."
   ]
  },
  {
   "cell_type": "code",
   "execution_count": 22,
   "id": "99ead870-95cf-4b38-be7e-8f8bdb33c909",
   "metadata": {},
   "outputs": [
    {
     "data": {
      "text/plain": [
       "1"
      ]
     },
     "execution_count": 22,
     "metadata": {},
     "output_type": "execute_result"
    }
   ],
   "source": [
    "l\n",
    "min(l)"
   ]
  },
  {
   "cell_type": "markdown",
   "id": "d93b15a2-32fe-4670-ac0d-3faf301da16a",
   "metadata": {},
   "source": [
    "18. Create a list of squares of numbers from 1 to 10."
   ]
  },
  {
   "cell_type": "code",
   "execution_count": 23,
   "id": "16584a29-7a3d-4976-adda-c5154f85b52a",
   "metadata": {},
   "outputs": [
    {
     "data": {
      "text/plain": [
       "[1, 4, 9, 16, 25, 36, 49, 64, 81, 100]"
      ]
     },
     "execution_count": 23,
     "metadata": {},
     "output_type": "execute_result"
    }
   ],
   "source": [
    "l2=[]\n",
    "for x in range(1,11):\n",
    "    l2.append(x*x)\n",
    "l2"
   ]
  },
  {
   "cell_type": "markdown",
   "id": "33845191-c82d-4dc3-b085-c78fa85f1eb1",
   "metadata": {},
   "source": [
    "19. Create a list of random numbers."
   ]
  },
  {
   "cell_type": "code",
   "execution_count": 25,
   "id": "d57aa07b-6113-4afb-8102-b2ef68c95496",
   "metadata": {},
   "outputs": [],
   "source": [
    "import random \n",
    "l3 = random.sample(range(1,1000),10)"
   ]
  },
  {
   "cell_type": "code",
   "execution_count": 26,
   "id": "d68b106e-d966-4c12-a4e3-88b718d09ff2",
   "metadata": {},
   "outputs": [
    {
     "data": {
      "text/plain": [
       "[154, 4, 452, 114, 567, 511, 883, 802, 545, 771]"
      ]
     },
     "execution_count": 26,
     "metadata": {},
     "output_type": "execute_result"
    }
   ],
   "source": [
    "l3"
   ]
  },
  {
   "cell_type": "code",
   "execution_count": 29,
   "id": "cc7dbcc2-1eb1-4add-a620-e431d38820a3",
   "metadata": {},
   "outputs": [
    {
     "data": {
      "text/plain": [
       "39"
      ]
     },
     "execution_count": 29,
     "metadata": {},
     "output_type": "execute_result"
    }
   ],
   "source": [
    "random.randint(1,100)"
   ]
  },
  {
   "cell_type": "markdown",
   "id": "0536f79e-16af-4d74-8bc4-d7f2652a91dd",
   "metadata": {},
   "source": [
    "20. Remove duplicates from a list."
   ]
  },
  {
   "cell_type": "code",
   "execution_count": 35,
   "id": "e65e7468-8ae4-4f3d-bb4e-10cad2285711",
   "metadata": {},
   "outputs": [
    {
     "data": {
      "text/plain": [
       "[1, 2, 3, 4, 5, 11, 22]"
      ]
     },
     "execution_count": 35,
     "metadata": {},
     "output_type": "execute_result"
    }
   ],
   "source": [
    "l1 = [11,22,3,1,1,2,22,11,11,3,4,4,5,5,4,1]\n",
    "l1=set(l1)\n",
    "l1=list(l1)\n",
    "l1"
   ]
  },
  {
   "cell_type": "markdown",
   "id": "3c807f08-9176-4de5-9d18-d57b5b940a34",
   "metadata": {},
   "source": [
    "## Tuple Based Practice Problem 11-20"
   ]
  },
  {
   "cell_type": "markdown",
   "id": "9d968e6d-27b3-40e7-a16d-1bc57d547726",
   "metadata": {},
   "source": [
    "11. Create a tuple of odd numbers from 1 to 10."
   ]
  },
  {
   "cell_type": "code",
   "execution_count": 36,
   "id": "25e63233-22b8-4cb7-88a3-307e156e6bcc",
   "metadata": {},
   "outputs": [],
   "source": [
    "t = tuple(range(1,11,2))"
   ]
  },
  {
   "cell_type": "code",
   "execution_count": 37,
   "id": "7e7a4613-1608-4f35-9c4a-7bf239255fc7",
   "metadata": {},
   "outputs": [
    {
     "data": {
      "text/plain": [
       "(1, 3, 5, 7, 9)"
      ]
     },
     "execution_count": 37,
     "metadata": {},
     "output_type": "execute_result"
    }
   ],
   "source": [
    "t"
   ]
  },
  {
   "cell_type": "markdown",
   "id": "ca2f090b-caac-49a4-95ad-8a70aed9ea71",
   "metadata": {},
   "source": [
    "12. Concatenate two tuples."
   ]
  },
  {
   "cell_type": "code",
   "execution_count": 38,
   "id": "adb8c949-9346-4c69-a64a-9e43807d26f8",
   "metadata": {},
   "outputs": [],
   "source": [
    "t1 = tuple(range(2,11,2))"
   ]
  },
  {
   "cell_type": "code",
   "execution_count": 39,
   "id": "41475a83-c9b1-43ba-ad2a-a90e3e098bff",
   "metadata": {},
   "outputs": [
    {
     "data": {
      "text/plain": [
       "(2, 4, 6, 8, 10)"
      ]
     },
     "execution_count": 39,
     "metadata": {},
     "output_type": "execute_result"
    }
   ],
   "source": [
    "t1"
   ]
  },
  {
   "cell_type": "code",
   "execution_count": 41,
   "id": "d9565339-85d4-4452-9f91-f5f59bec3c6c",
   "metadata": {},
   "outputs": [],
   "source": [
    "t3 = t1 + t"
   ]
  },
  {
   "cell_type": "code",
   "execution_count": 42,
   "id": "785a6142-b6d4-4886-b79d-9504f528b3ab",
   "metadata": {},
   "outputs": [
    {
     "data": {
      "text/plain": [
       "(2, 4, 6, 8, 10, 1, 3, 5, 7, 9)"
      ]
     },
     "execution_count": 42,
     "metadata": {},
     "output_type": "execute_result"
    }
   ],
   "source": [
    "t3"
   ]
  },
  {
   "cell_type": "markdown",
   "id": "2a3dff9a-0ac9-48f0-887c-bccb53734cc9",
   "metadata": {},
   "source": [
    "13. Repeat a tuple three times."
   ]
  },
  {
   "cell_type": "code",
   "execution_count": 43,
   "id": "f1ab00d9-4f1a-4dbd-89ac-24bf4ea8a3db",
   "metadata": {},
   "outputs": [],
   "source": [
    "t4 = t*3"
   ]
  },
  {
   "cell_type": "code",
   "execution_count": 44,
   "id": "cadf20e7-f4cc-45f8-a683-65e483388a57",
   "metadata": {},
   "outputs": [
    {
     "data": {
      "text/plain": [
       "(1, 3, 5, 7, 9, 1, 3, 5, 7, 9, 1, 3, 5, 7, 9)"
      ]
     },
     "execution_count": 44,
     "metadata": {},
     "output_type": "execute_result"
    }
   ],
   "source": [
    "t4"
   ]
  },
  {
   "cell_type": "markdown",
   "id": "ac5ee6a3-cade-4471-9c1f-e7f6d4f2e3a6",
   "metadata": {},
   "source": [
    "14. Check if a tuple is empty."
   ]
  },
  {
   "cell_type": "code",
   "execution_count": 61,
   "id": "30a8369d-14e4-499e-9245-d07fe89e114f",
   "metadata": {},
   "outputs": [
    {
     "name": "stdout",
     "output_type": "stream",
     "text": [
      "Empty Tuple\n"
     ]
    }
   ],
   "source": [
    "t=()\n",
    "if len(t)==0:\n",
    "    print('Empty Tuple')\n",
    "else:\n",
    "    print('Not Empty Tuple')"
   ]
  },
  {
   "cell_type": "markdown",
   "id": "1fc37ffd-4e48-4abd-8189-32de14a82c87",
   "metadata": {},
   "source": [
    "15. Create a nested tuple."
   ]
  },
  {
   "cell_type": "code",
   "execution_count": 65,
   "id": "8612883f-b543-4a29-b517-1ebcf434316a",
   "metadata": {},
   "outputs": [],
   "source": [
    "t=(1,2,(2,3,(3,4)))"
   ]
  },
  {
   "cell_type": "code",
   "execution_count": 68,
   "id": "7b400e72-98b8-45e2-8706-cfa4d011305b",
   "metadata": {},
   "outputs": [
    {
     "data": {
      "text/plain": [
       "(1, 2, (2, 3, (3, 4)))"
      ]
     },
     "execution_count": 68,
     "metadata": {},
     "output_type": "execute_result"
    }
   ],
   "source": [
    "t"
   ]
  },
  {
   "cell_type": "markdown",
   "id": "bdcbc1e4-8590-4188-b597-b6eba9a84d58",
   "metadata": {},
   "source": [
    "16. Access the first element of a nested tuple."
   ]
  },
  {
   "cell_type": "code",
   "execution_count": 69,
   "id": "f36c5ed5-7225-46dd-ba90-a260300ea269",
   "metadata": {},
   "outputs": [
    {
     "data": {
      "text/plain": [
       "2"
      ]
     },
     "execution_count": 69,
     "metadata": {},
     "output_type": "execute_result"
    }
   ],
   "source": [
    "t[2][0]"
   ]
  },
  {
   "cell_type": "markdown",
   "id": "c83bd374-5e32-48c5-a6b4-b5c1589b9f73",
   "metadata": {},
   "source": [
    "17. Create a tuple with a single element."
   ]
  },
  {
   "cell_type": "code",
   "execution_count": 70,
   "id": "1f00f148-f4e0-4ada-a615-40d8a5e782a1",
   "metadata": {},
   "outputs": [],
   "source": [
    "t=(1,)"
   ]
  },
  {
   "cell_type": "code",
   "execution_count": 71,
   "id": "c44cb35d-9399-4072-b9a1-96c1bf078210",
   "metadata": {},
   "outputs": [
    {
     "data": {
      "text/plain": [
       "tuple"
      ]
     },
     "execution_count": 71,
     "metadata": {},
     "output_type": "execute_result"
    }
   ],
   "source": [
    "type(t)"
   ]
  },
  {
   "cell_type": "markdown",
   "id": "2cbac9a6-bb15-4074-8e61-fa7a23bef2f0",
   "metadata": {},
   "source": [
    "18. Compare two tuples."
   ]
  },
  {
   "cell_type": "code",
   "execution_count": 72,
   "id": "97f0f3e8-3abf-4598-be27-805d7e17a320",
   "metadata": {},
   "outputs": [],
   "source": [
    "t1=(1,2,3)\n",
    "t2=(2,3,4)"
   ]
  },
  {
   "cell_type": "code",
   "execution_count": 73,
   "id": "953b42fd-a390-464b-8a9b-2ccb91c67387",
   "metadata": {},
   "outputs": [
    {
     "data": {
      "text/plain": [
       "False"
      ]
     },
     "execution_count": 73,
     "metadata": {},
     "output_type": "execute_result"
    }
   ],
   "source": [
    "t1==t2"
   ]
  },
  {
   "cell_type": "code",
   "execution_count": 74,
   "id": "b460f7d1-ef82-4936-a988-054910233f25",
   "metadata": {},
   "outputs": [
    {
     "data": {
      "text/plain": [
       "True"
      ]
     },
     "execution_count": 74,
     "metadata": {},
     "output_type": "execute_result"
    }
   ],
   "source": [
    "t1<t2"
   ]
  },
  {
   "cell_type": "code",
   "execution_count": 75,
   "id": "d19aa6ea-07f3-4364-92cf-9c7b46796efa",
   "metadata": {},
   "outputs": [
    {
     "data": {
      "text/plain": [
       "False"
      ]
     },
     "execution_count": 75,
     "metadata": {},
     "output_type": "execute_result"
    }
   ],
   "source": [
    "t1>t2"
   ]
  },
  {
   "cell_type": "markdown",
   "id": "a63536f0-2237-477c-805d-fe387922d9b8",
   "metadata": {},
   "source": [
    "19. Delete a tuple."
   ]
  },
  {
   "cell_type": "code",
   "execution_count": 76,
   "id": "6e1fa01a-341b-49e9-bacb-b0f22328e2c2",
   "metadata": {},
   "outputs": [],
   "source": [
    "del t1"
   ]
  },
  {
   "cell_type": "code",
   "execution_count": 77,
   "id": "420606c5-498f-4f67-b9d4-e4cb1dc8ac6e",
   "metadata": {},
   "outputs": [
    {
     "ename": "NameError",
     "evalue": "name 't1' is not defined",
     "output_type": "error",
     "traceback": [
      "\u001b[0;31m---------------------------------------------------------------------------\u001b[0m",
      "\u001b[0;31mNameError\u001b[0m                                 Traceback (most recent call last)",
      "Cell \u001b[0;32mIn[77], line 1\u001b[0m\n\u001b[0;32m----> 1\u001b[0m \u001b[43mt1\u001b[49m\n",
      "\u001b[0;31mNameError\u001b[0m: name 't1' is not defined"
     ]
    }
   ],
   "source": [
    "t1"
   ]
  },
  {
   "cell_type": "markdown",
   "id": "ea435ae2-6a3b-472f-863c-aed4931e1f75",
   "metadata": {},
   "source": [
    "20. Slice a tuple."
   ]
  },
  {
   "cell_type": "code",
   "execution_count": 80,
   "id": "f1094b7f-75c5-4c6c-8072-e75e9e413938",
   "metadata": {},
   "outputs": [
    {
     "data": {
      "text/plain": [
       "(2, 4, 6, 8, 10, 1, 3, 5, 7, 9)"
      ]
     },
     "execution_count": 80,
     "metadata": {},
     "output_type": "execute_result"
    }
   ],
   "source": [
    "t3"
   ]
  },
  {
   "cell_type": "code",
   "execution_count": 81,
   "id": "4ff22186-57cf-42f4-b66a-a061db85464d",
   "metadata": {},
   "outputs": [
    {
     "data": {
      "text/plain": [
       "(6, 8, 10, 1, 3)"
      ]
     },
     "execution_count": 81,
     "metadata": {},
     "output_type": "execute_result"
    }
   ],
   "source": [
    "t3[2:7]"
   ]
  },
  {
   "cell_type": "markdown",
   "id": "1a81f4be-9f4f-47c6-ac6e-fa6e952394a3",
   "metadata": {},
   "source": [
    "## Set Based Practice Problem 11-20"
   ]
  },
  {
   "cell_type": "markdown",
   "id": "e6e014e8-3b5c-457c-9aa2-029f197d4ab3",
   "metadata": {},
   "source": [
    "11. Find the difference between two sets."
   ]
  },
  {
   "cell_type": "code",
   "execution_count": 83,
   "id": "5b821a2a-efe7-42df-a498-6f4b14ddb015",
   "metadata": {},
   "outputs": [],
   "source": [
    "s1={1,1,2,2,3,3}\n",
    "s2={2,2,3,3,4,4}\n"
   ]
  },
  {
   "cell_type": "code",
   "execution_count": 84,
   "id": "400cbe7e-7822-4b8a-8156-945a55bffed1",
   "metadata": {},
   "outputs": [
    {
     "data": {
      "text/plain": [
       "{1, 2, 3}"
      ]
     },
     "execution_count": 84,
     "metadata": {},
     "output_type": "execute_result"
    }
   ],
   "source": [
    "s1"
   ]
  },
  {
   "cell_type": "code",
   "execution_count": 85,
   "id": "ce600230-cb41-4587-b173-fc2fa988f727",
   "metadata": {},
   "outputs": [
    {
     "data": {
      "text/plain": [
       "{2, 3, 4}"
      ]
     },
     "execution_count": 85,
     "metadata": {},
     "output_type": "execute_result"
    }
   ],
   "source": [
    "s2"
   ]
  },
  {
   "cell_type": "code",
   "execution_count": 87,
   "id": "2be8cc63-f73c-45e5-a404-0cf413fa354a",
   "metadata": {},
   "outputs": [
    {
     "data": {
      "text/plain": [
       "{4}"
      ]
     },
     "execution_count": 87,
     "metadata": {},
     "output_type": "execute_result"
    }
   ],
   "source": [
    "s2.difference(s1)"
   ]
  },
  {
   "cell_type": "markdown",
   "id": "8aeeca42-b0b4-44b1-9ef3-49d91ce8404a",
   "metadata": {},
   "source": [
    "12. Check if a set is a subset of another set."
   ]
  },
  {
   "cell_type": "code",
   "execution_count": 89,
   "id": "ca03990d-bb60-435a-97a4-ea71b5246921",
   "metadata": {},
   "outputs": [
    {
     "data": {
      "text/plain": [
       "True"
      ]
     },
     "execution_count": 89,
     "metadata": {},
     "output_type": "execute_result"
    }
   ],
   "source": [
    "s1=set(range(1,20))\n",
    "s2=set(range(5,10))\n",
    "s2.issubset(s1)"
   ]
  },
  {
   "cell_type": "markdown",
   "id": "a07f4824-2ece-42e7-996d-9e28c5b726a4",
   "metadata": {},
   "source": [
    "13. Check if a set is a superset of another set."
   ]
  },
  {
   "cell_type": "code",
   "execution_count": 90,
   "id": "6144d9c0-cadb-4a1c-868f-c3d530a4c24b",
   "metadata": {},
   "outputs": [
    {
     "data": {
      "text/plain": [
       "True"
      ]
     },
     "execution_count": 90,
     "metadata": {},
     "output_type": "execute_result"
    }
   ],
   "source": [
    "s1=set(range(1,20))\n",
    "s2=set(range(5,10))\n",
    "s1.issubset(s1)"
   ]
  },
  {
   "cell_type": "markdown",
   "id": "f322e5ed-e5d8-4629-b17f-9895b30ceeea",
   "metadata": {},
   "source": [
    "14. Create a set from a list."
   ]
  },
  {
   "cell_type": "code",
   "execution_count": 91,
   "id": "19a91870-b279-4597-b699-da9afe7f17cc",
   "metadata": {},
   "outputs": [
    {
     "data": {
      "text/plain": [
       "[1, 2, 3, 4, 5, 6, 7, 8, 9, 10, 11, 12, 13, 14, 15, 16, 17, 18, 19, 20]"
      ]
     },
     "execution_count": 91,
     "metadata": {},
     "output_type": "execute_result"
    }
   ],
   "source": [
    "l"
   ]
  },
  {
   "cell_type": "code",
   "execution_count": 92,
   "id": "b83d1f0f-04ad-4e99-b244-80c386db7a3d",
   "metadata": {},
   "outputs": [],
   "source": [
    "s=set(l)"
   ]
  },
  {
   "cell_type": "code",
   "execution_count": 93,
   "id": "7a0590e6-2e64-4c7c-b243-a569565b03a6",
   "metadata": {},
   "outputs": [
    {
     "data": {
      "text/plain": [
       "{1, 2, 3, 4, 5, 6, 7, 8, 9, 10, 11, 12, 13, 14, 15, 16, 17, 18, 19, 20}"
      ]
     },
     "execution_count": 93,
     "metadata": {},
     "output_type": "execute_result"
    }
   ],
   "source": [
    "s"
   ]
  },
  {
   "cell_type": "markdown",
   "id": "8b991734-cd34-474a-bd51-e93c1bd22db8",
   "metadata": {},
   "source": [
    "15. Convert a set to a list."
   ]
  },
  {
   "cell_type": "code",
   "execution_count": 94,
   "id": "d5bf5708-950f-49bf-add5-08b747b9e7bf",
   "metadata": {},
   "outputs": [],
   "source": [
    "l=list(s)"
   ]
  },
  {
   "cell_type": "code",
   "execution_count": 95,
   "id": "2f5a7aee-f736-4340-8661-c320cb1ebf61",
   "metadata": {},
   "outputs": [
    {
     "data": {
      "text/plain": [
       "[1, 2, 3, 4, 5, 6, 7, 8, 9, 10, 11, 12, 13, 14, 15, 16, 17, 18, 19, 20]"
      ]
     },
     "execution_count": 95,
     "metadata": {},
     "output_type": "execute_result"
    }
   ],
   "source": [
    "l"
   ]
  },
  {
   "cell_type": "markdown",
   "id": "cdc61729-f0cd-42f9-867f-dc25a762029c",
   "metadata": {},
   "source": [
    "16. Remove a random element from a set."
   ]
  },
  {
   "cell_type": "code",
   "execution_count": 98,
   "id": "0d6e3c0d-5526-424b-bbdf-bdf53aa76c8a",
   "metadata": {},
   "outputs": [
    {
     "data": {
      "text/plain": [
       "2"
      ]
     },
     "execution_count": 98,
     "metadata": {},
     "output_type": "execute_result"
    }
   ],
   "source": [
    "s.pop()"
   ]
  },
  {
   "cell_type": "code",
   "execution_count": 107,
   "id": "82c4938f-e301-4a2a-8720-65aef23500b8",
   "metadata": {},
   "outputs": [
    {
     "data": {
      "text/plain": [
       "{3, 4, 5, 6, 7, 8, 9, 10, 11, 12, 13, 14, 15, 16, 17, 18, 19, 20}"
      ]
     },
     "execution_count": 107,
     "metadata": {},
     "output_type": "execute_result"
    }
   ],
   "source": [
    "s"
   ]
  },
  {
   "cell_type": "markdown",
   "id": "5d992a9d-94fb-4e5d-ae85-47cf8bdce14e",
   "metadata": {},
   "source": [
    "17. Pop an element from a set."
   ]
  },
  {
   "cell_type": "code",
   "execution_count": 110,
   "id": "96c738f5-bfd4-47a9-b6a0-37033e554191",
   "metadata": {},
   "outputs": [],
   "source": [
    "s.remove(4)"
   ]
  },
  {
   "cell_type": "code",
   "execution_count": 111,
   "id": "a727493e-38eb-4579-a099-86f1e56865b2",
   "metadata": {},
   "outputs": [
    {
     "data": {
      "text/plain": [
       "{5, 6, 7, 8, 9, 10, 11, 12, 13, 14, 15, 16, 17, 18, 19, 20}"
      ]
     },
     "execution_count": 111,
     "metadata": {},
     "output_type": "execute_result"
    }
   ],
   "source": [
    "s"
   ]
  },
  {
   "cell_type": "markdown",
   "id": "1eda68db-1b27-4ebd-a087-06ea273e536f",
   "metadata": {},
   "source": [
    "18. Check if two sets have no elements in common."
   ]
  },
  {
   "cell_type": "code",
   "execution_count": 117,
   "id": "1d43d3d6-85f6-4919-9d1f-184e9c6fb6aa",
   "metadata": {},
   "outputs": [],
   "source": [
    "s1=set(range(1,6))"
   ]
  },
  {
   "cell_type": "code",
   "execution_count": 124,
   "id": "a9d2ff99-0f15-4cb7-babe-7d6f7d7dd6ac",
   "metadata": {},
   "outputs": [
    {
     "name": "stdout",
     "output_type": "stream",
     "text": [
      "common element {5}\n"
     ]
    }
   ],
   "source": [
    "if s1.intersection(s) is None:\n",
    "    print('no elements common')\n",
    "else:\n",
    "    print('common element',s1.intersection(s))"
   ]
  },
  {
   "cell_type": "markdown",
   "id": "f7741a3c-07ae-42ae-b77c-045671550b0a",
   "metadata": {},
   "source": [
    "19. Find the symmetric difference between two sets."
   ]
  },
  {
   "cell_type": "code",
   "execution_count": 125,
   "id": "62a0c9c0-e5bb-401a-bbdb-df285264c8be",
   "metadata": {},
   "outputs": [
    {
     "data": {
      "text/plain": [
       "{1, 2, 3, 4, 5}"
      ]
     },
     "execution_count": 125,
     "metadata": {},
     "output_type": "execute_result"
    }
   ],
   "source": [
    "s1"
   ]
  },
  {
   "cell_type": "code",
   "execution_count": 126,
   "id": "4dce346a-2d7d-43ea-932a-c2cb23875a5a",
   "metadata": {},
   "outputs": [
    {
     "data": {
      "text/plain": [
       "{5, 6, 7, 8, 9}"
      ]
     },
     "execution_count": 126,
     "metadata": {},
     "output_type": "execute_result"
    }
   ],
   "source": [
    "s2\n"
   ]
  },
  {
   "cell_type": "code",
   "execution_count": 127,
   "id": "037505f1-a9d6-4dfd-8a80-867c91e1afea",
   "metadata": {},
   "outputs": [
    {
     "data": {
      "text/plain": [
       "{1, 2, 3, 4, 6, 7, 8, 9}"
      ]
     },
     "execution_count": 127,
     "metadata": {},
     "output_type": "execute_result"
    }
   ],
   "source": [
    "s2.symmetric_difference(s1)"
   ]
  },
  {
   "cell_type": "markdown",
   "id": "4689460e-2017-4ac1-b022-223c8456e19e",
   "metadata": {},
   "source": [
    "20. Update a set with elements from another set."
   ]
  },
  {
   "cell_type": "code",
   "execution_count": 129,
   "id": "7811db23-b32e-49c9-87de-052682481ed8",
   "metadata": {},
   "outputs": [],
   "source": [
    "s2.update(s1)"
   ]
  },
  {
   "cell_type": "code",
   "execution_count": 130,
   "id": "42d21484-5717-4a5a-89af-e0f7ae8d8d49",
   "metadata": {},
   "outputs": [
    {
     "data": {
      "text/plain": [
       "{1, 2, 3, 4, 5, 6, 7, 8, 9}"
      ]
     },
     "execution_count": 130,
     "metadata": {},
     "output_type": "execute_result"
    }
   ],
   "source": [
    "s2"
   ]
  },
  {
   "cell_type": "markdown",
   "id": "dbba01c4-dc94-402c-9f2d-4e9d43997910",
   "metadata": {},
   "source": [
    "## TOPIC: String Based Assignment Problem 21-50"
   ]
  },
  {
   "cell_type": "markdown",
   "id": "af5e8189-15c2-4034-a588-c951b47ec774",
   "metadata": {},
   "source": [
    "21. Find the shortest word in a string."
   ]
  },
  {
   "cell_type": "code",
   "execution_count": 137,
   "id": "0402ffb2-a20f-4868-9380-592588ad7ec2",
   "metadata": {},
   "outputs": [
    {
     "name": "stdin",
     "output_type": "stream",
     "text": [
      "Enter string quick brown fox jumps over the lazy dog\n"
     ]
    },
    {
     "name": "stdout",
     "output_type": "stream",
     "text": [
      "fox, the, dog\n"
     ]
    }
   ],
   "source": [
    "my_str = input('Enter string')\n",
    "l = my_str.split(\" \")\n",
    "smallest_word=\"\"\n",
    "count=len(my_str)\n",
    "for x in l:\n",
    "    if count>len(x):\n",
    "        count=len(x)\n",
    "        smallest_word = x\n",
    "    elif count == len(x):\n",
    "        smallest_word = smallest_word + \", \" + x\n",
    "\n",
    "print(smallest_word)"
   ]
  },
  {
   "cell_type": "code",
   "execution_count": 138,
   "id": "2033ea1a-cacc-456d-8e12-72ac4e218f94",
   "metadata": {},
   "outputs": [],
   "source": [
    "s1= sorted(l,key=len)"
   ]
  },
  {
   "cell_type": "code",
   "execution_count": 139,
   "id": "e86c3b02-85de-46aa-994a-f79eb1eff56f",
   "metadata": {},
   "outputs": [
    {
     "data": {
      "text/plain": [
       "'fox'"
      ]
     },
     "execution_count": 139,
     "metadata": {},
     "output_type": "execute_result"
    }
   ],
   "source": [
    "s1[0]"
   ]
  },
  {
   "cell_type": "markdown",
   "id": "4b39574f-eb3d-4b71-8e76-0415b4d356a4",
   "metadata": {},
   "source": [
    "22. Reverse the order of words in a string."
   ]
  },
  {
   "cell_type": "code",
   "execution_count": 142,
   "id": "1da2e26b-8deb-4291-9960-33d550aea962",
   "metadata": {},
   "outputs": [
    {
     "data": {
      "text/plain": [
       "'quick brown fox jumps over the lazy dog'"
      ]
     },
     "execution_count": 142,
     "metadata": {},
     "output_type": "execute_result"
    }
   ],
   "source": [
    "my_str\n"
   ]
  },
  {
   "cell_type": "code",
   "execution_count": 144,
   "id": "53a17039-2ea0-4a2e-8b39-98aed17d4c70",
   "metadata": {},
   "outputs": [
    {
     "data": {
      "text/plain": [
       "['dog', 'lazy', 'the', 'over', 'jumps', 'fox', 'brown', 'quick']"
      ]
     },
     "execution_count": 144,
     "metadata": {},
     "output_type": "execute_result"
    }
   ],
   "source": [
    "my_str.split()[::-1]"
   ]
  },
  {
   "cell_type": "markdown",
   "id": "f8e0d1e3-faf3-4c1d-b687-2392f5a3b027",
   "metadata": {},
   "source": [
    "23. Check if a string is alphanumeric."
   ]
  },
  {
   "cell_type": "code",
   "execution_count": 145,
   "id": "94f2fb16-238d-4892-b4d1-5a244e108c23",
   "metadata": {},
   "outputs": [
    {
     "data": {
      "text/plain": [
       "False"
      ]
     },
     "execution_count": 145,
     "metadata": {},
     "output_type": "execute_result"
    }
   ],
   "source": [
    "my_str.isalnum()"
   ]
  },
  {
   "cell_type": "markdown",
   "id": "2a054bdc-f8ba-433a-906a-6f41bd0515fc",
   "metadata": {},
   "source": [
    "24. Extract all digits from a string."
   ]
  },
  {
   "cell_type": "code",
   "execution_count": 153,
   "id": "ce2dd521-1317-4581-b29f-d5b35ab0c1ae",
   "metadata": {},
   "outputs": [
    {
     "name": "stdout",
     "output_type": "stream",
     "text": [
      "['1', '2', '3', '2', '1', '3', '2', '1', '3', '1', '2', '3', '1', '3', '2', '2', '3', '3', '2', '3']\n"
     ]
    }
   ],
   "source": [
    "my_str = '123ab213basdas213b1231322b3b323b'\n",
    "num=[]\n",
    "for x in my_str:\n",
    "    if x in ['0','1','2','3','4','5','6','7','8','9']:\n",
    "        num.append(x)\n",
    "print(num)\n",
    "   "
   ]
  },
  {
   "cell_type": "code",
   "execution_count": 158,
   "id": "9cb687c2-3311-48a9-bd3d-db4b6dfabf17",
   "metadata": {},
   "outputs": [
    {
     "name": "stdout",
     "output_type": "stream",
     "text": [
      "['1', '2', '3', '6']\n"
     ]
    }
   ],
   "source": [
    "my_str = '123rt6yu'\n",
    "num=[]\n",
    "for x in my_str:\n",
    "    if x.isdigit():\n",
    "        num.append(x)\n",
    "print(num)\n",
    "   "
   ]
  },
  {
   "cell_type": "markdown",
   "id": "f806d465-6079-468b-8f50-83601395e421",
   "metadata": {},
   "source": [
    "25. Extract all alphabets from a string."
   ]
  },
  {
   "cell_type": "code",
   "execution_count": 160,
   "id": "eeff7cac-dbba-4e16-8fc2-ed034204c56f",
   "metadata": {},
   "outputs": [
    {
     "name": "stdout",
     "output_type": "stream",
     "text": [
      "['r', 't', 'y', 'u']\n"
     ]
    }
   ],
   "source": [
    "my_str = '123rt6yu'\n",
    "alphabets=[]\n",
    "for x in my_str:\n",
    "    if x.isalpha():\n",
    "        alphabets.append(x)\n",
    "print(alphabets)\n",
    "   "
   ]
  },
  {
   "cell_type": "markdown",
   "id": "d2238bb5-3dea-4f30-ae58-c502da1b4a9a",
   "metadata": {},
   "source": [
    "26. Count the number of uppercase letters in a string."
   ]
  },
  {
   "cell_type": "code",
   "execution_count": 163,
   "id": "208e704c-1698-43ed-8118-07896e0df0e1",
   "metadata": {},
   "outputs": [
    {
     "name": "stdout",
     "output_type": "stream",
     "text": [
      "['A', 'B', 'C']\n",
      "3\n"
     ]
    }
   ],
   "source": [
    "my_str = '123rt6yuABC'\n",
    "alphabets=[]\n",
    "for x in my_str:\n",
    "    if x.isupper():\n",
    "        alphabets.append(x)\n",
    "print(alphabets)\n",
    "print(len(alphabets))\n",
    "   "
   ]
  },
  {
   "cell_type": "markdown",
   "id": "d195ae27-bdfe-4887-8c9d-b943463015d5",
   "metadata": {},
   "source": [
    "27. Count the number of lowercase letters in a string."
   ]
  },
  {
   "cell_type": "code",
   "execution_count": 164,
   "id": "5f0674a6-bcb9-4234-9999-8b6aa33d8ef1",
   "metadata": {},
   "outputs": [
    {
     "name": "stdout",
     "output_type": "stream",
     "text": [
      "['r', 't', 'y', 'u']\n",
      "4\n"
     ]
    }
   ],
   "source": [
    "my_str = '123rt6yuABC'\n",
    "alphabets=[]\n",
    "for x in my_str:\n",
    "    if x.islower():\n",
    "        alphabets.append(x)\n",
    "print(alphabets)\n",
    "print(len(alphabets))\n",
    "   "
   ]
  },
  {
   "cell_type": "markdown",
   "id": "227c55e1-0bf6-41b4-8a33-784c365967f8",
   "metadata": {},
   "source": [
    "28. Swap the case of each character in a string."
   ]
  },
  {
   "cell_type": "code",
   "execution_count": 170,
   "id": "dc628e0c-ff19-468a-b6dd-87e625406cc3",
   "metadata": {},
   "outputs": [
    {
     "name": "stdout",
     "output_type": "stream",
     "text": [
      " rT6YU\n"
     ]
    }
   ],
   "source": [
    "my_str = 'Rt6yu'\n",
    "alphabets=\" \"\n",
    "for x in my_str:\n",
    "    alphabets = alphabets + x.swapcase()\n",
    "\n",
    "print(alphabets)  "
   ]
  },
  {
   "cell_type": "markdown",
   "id": "181fbdd7-a03e-4c95-a040-7ac48308ba4e",
   "metadata": {},
   "source": [
    "29. Remove a specific word from a string."
   ]
  },
  {
   "cell_type": "code",
   "execution_count": 177,
   "id": "53aa826e-ef36-465d-bd0d-f9d1bb301954",
   "metadata": {},
   "outputs": [],
   "source": [
    "my_str = 'hello world hello Kitty'\n",
    "word = 'hello'\n",
    "\n",
    "l=list(my_str.split())\n",
    "l.remove(word)\n",
    "my_str = \" \".join(l)"
   ]
  },
  {
   "cell_type": "code",
   "execution_count": 181,
   "id": "530b8989-0864-4ada-a36a-4b204fec9e6b",
   "metadata": {},
   "outputs": [
    {
     "data": {
      "text/plain": [
       "'world  Kitty'"
      ]
     },
     "execution_count": 181,
     "metadata": {},
     "output_type": "execute_result"
    }
   ],
   "source": [
    "my_str.replace('hello','')"
   ]
  },
  {
   "cell_type": "code",
   "execution_count": 182,
   "id": "5dedf0d1-4f1e-4dcb-bf95-28929b9b7686",
   "metadata": {},
   "outputs": [
    {
     "data": {
      "text/plain": [
       "'world hello Kitty'"
      ]
     },
     "execution_count": 182,
     "metadata": {},
     "output_type": "execute_result"
    }
   ],
   "source": [
    "my_str"
   ]
  },
  {
   "cell_type": "markdown",
   "id": "3a2d7e2f-329a-4a59-91ca-982317dcccef",
   "metadata": {},
   "source": [
    "30. Check if a string is a valid email address."
   ]
  },
  {
   "cell_type": "code",
   "execution_count": 188,
   "id": "1fae345a-ef35-4068-a3b7-cdbe418e583d",
   "metadata": {},
   "outputs": [
    {
     "name": "stdin",
     "output_type": "stream",
     "text": [
      "Enter email h@gmail.com\n"
     ]
    },
    {
     "name": "stdout",
     "output_type": "stream",
     "text": [
      "valid email\n"
     ]
    }
   ],
   "source": [
    "my_email = input('Enter email')\n",
    "if my_email.split('@')[1].endswith('gmail.com'):\n",
    "    print('valid email')"
   ]
  },
  {
   "cell_type": "code",
   "execution_count": 184,
   "id": "2341040c-858e-457e-ba9f-c942fce57b16",
   "metadata": {},
   "outputs": [
    {
     "data": {
      "text/plain": [
       "'hello@gmail.com'"
      ]
     },
     "execution_count": 184,
     "metadata": {},
     "output_type": "execute_result"
    }
   ],
   "source": [
    "my_email"
   ]
  },
  {
   "cell_type": "markdown",
   "id": "8f87050a-346a-4aae-b44e-ba8e8c8f6f49",
   "metadata": {},
   "source": [
    "31. Extract the username from an email address string."
   ]
  },
  {
   "cell_type": "code",
   "execution_count": 190,
   "id": "9640ae5d-056b-49f3-8f86-f2c836465454",
   "metadata": {},
   "outputs": [
    {
     "name": "stdin",
     "output_type": "stream",
     "text": [
      "Enter email hello@gmail.com\n"
     ]
    },
    {
     "name": "stdout",
     "output_type": "stream",
     "text": [
      "username is hello\n"
     ]
    }
   ],
   "source": [
    "my_email = input('Enter email')\n",
    "username = my_email.split('@')[0]\n",
    "print('username is',username)"
   ]
  },
  {
   "cell_type": "markdown",
   "id": "87ff42f0-7295-4600-8bd3-603002e753b9",
   "metadata": {},
   "source": [
    "32. Extract the domain name from an email address string."
   ]
  },
  {
   "cell_type": "code",
   "execution_count": 191,
   "id": "b565a4f4-eb31-42c2-a499-3452e868faab",
   "metadata": {},
   "outputs": [
    {
     "name": "stdin",
     "output_type": "stream",
     "text": [
      "Enter email hello@gmail.com\n"
     ]
    },
    {
     "name": "stdout",
     "output_type": "stream",
     "text": [
      "domain is gmail.com\n"
     ]
    }
   ],
   "source": [
    "my_email = input('Enter email')\n",
    "domain = my_email.split('@')[1]\n",
    "print('domain is',domain)"
   ]
  },
  {
   "cell_type": "markdown",
   "id": "8f52e8d8-bb53-4a64-b3f0-814fbfcd12d2",
   "metadata": {},
   "source": [
    "33. Replace multiple spaces in a string with a single space."
   ]
  },
  {
   "cell_type": "code",
   "execution_count": 206,
   "id": "21c0e22d-6e6f-4713-98e5-9229e0dcfcef",
   "metadata": {},
   "outputs": [
    {
     "name": "stdout",
     "output_type": "stream",
     "text": [
      "hello world hello smiti\n"
     ]
    }
   ],
   "source": [
    "my_str = '       hello          world      hello    smiti    '\n",
    "\n",
    "print(\" \".join(my_str.split()))"
   ]
  },
  {
   "cell_type": "code",
   "execution_count": 202,
   "id": "cffe4dc8-af25-43f0-9806-5b7f77bc82e8",
   "metadata": {},
   "outputs": [
    {
     "data": {
      "text/plain": [
       "'hello world'"
      ]
     },
     "execution_count": 202,
     "metadata": {},
     "output_type": "execute_result"
    }
   ],
   "source": [
    "\" \".join(my_str.split())"
   ]
  },
  {
   "cell_type": "markdown",
   "id": "4c7687d3-789f-41d9-8d0e-7d5b839f71d0",
   "metadata": {},
   "source": [
    "34. Check if a string is a valid URL."
   ]
  },
  {
   "cell_type": "markdown",
   "id": "40684408-da62-4049-8274-ae13b153b9c6",
   "metadata": {},
   "source": [
    "Need more knowledge"
   ]
  },
  {
   "cell_type": "markdown",
   "id": "70afa06c-a4be-4631-a835-5aee192ec507",
   "metadata": {},
   "source": [
    "35. Extract the protocol (http or https) from a URL string."
   ]
  },
  {
   "cell_type": "code",
   "execution_count": 207,
   "id": "cf680c6c-df7d-4060-bf84-2d1d9b1cfc05",
   "metadata": {},
   "outputs": [
    {
     "name": "stdin",
     "output_type": "stream",
     "text": [
      "URL https://red-baker-beemk.pwskills.app/lab/tree/work/Practice.ipynb\n"
     ]
    },
    {
     "name": "stdout",
     "output_type": "stream",
     "text": [
      "protocol is https\n"
     ]
    }
   ],
   "source": [
    "my_email = input('URL')\n",
    "protocol = my_email.split('://')[0]\n",
    "print('protocol is',protocol)"
   ]
  },
  {
   "cell_type": "markdown",
   "id": "fa425c73-dd6a-47bc-8974-9e4312f3bd57",
   "metadata": {},
   "source": [
    "36. Find the frequency of each character in a string."
   ]
  },
  {
   "cell_type": "code",
   "execution_count": 214,
   "id": "d40099b2-61e0-4fd1-9a53-1d47bb9aadc4",
   "metadata": {},
   "outputs": [
    {
     "name": "stdout",
     "output_type": "stream",
     "text": [
      "{'A': 1, 'q': 1, 'u': 1, 'i': 1, 'c': 1, 'k': 1, 'b': 1, 'r': 1, 'o': 2, 'w': 1, 'n': 1, 'f': 1, 'x': 1}\n"
     ]
    }
   ],
   "source": [
    "my_str = 'A quick brown fox'\n",
    "d={}\n",
    "for x in my_str.replace(\" \",\"\"):\n",
    "    d[x]=my_str.count(x)\n",
    "\n",
    "print(d)"
   ]
  },
  {
   "cell_type": "markdown",
   "id": "406aba1a-0184-4e59-a698-2fce8ca2b63e",
   "metadata": {},
   "source": [
    "37. Remove all punctuation from a string."
   ]
  },
  {
   "cell_type": "code",
   "execution_count": 3,
   "id": "8a162543-c0d3-4f1a-9355-5aad4ef1df44",
   "metadata": {},
   "outputs": [
    {
     "name": "stdout",
     "output_type": "stream",
     "text": [
      "A quick brown fox\n"
     ]
    }
   ],
   "source": [
    "my_str = \"A,. quick:;'' !brown fox\"\n",
    "punc=['!',\"'\",'\"',\",\",\".\",\"?\",\"'\",\":\",\";\"]\n",
    "\n",
    "for x in my_str:\n",
    "    if x in punc:\n",
    "        my_str=my_str.replace(x,\"\")\n",
    "\n",
    "print(my_str)"
   ]
  },
  {
   "cell_type": "markdown",
   "id": "7b226ec2-2fcb-4cd2-8e1e-d9c5d312c479",
   "metadata": {},
   "source": [
    "38. Check if a string contains only digits."
   ]
  },
  {
   "cell_type": "code",
   "execution_count": 4,
   "id": "0d1e739e-21c0-4aa3-9f32-41393ece807f",
   "metadata": {},
   "outputs": [
    {
     "data": {
      "text/plain": [
       "False"
      ]
     },
     "execution_count": 4,
     "metadata": {},
     "output_type": "execute_result"
    }
   ],
   "source": [
    "my_str = \"A,. quick:;'' !brown fox\"\n",
    "my_str.isdigit()"
   ]
  },
  {
   "cell_type": "markdown",
   "id": "85cb7bd2-c871-44f7-99bd-9f38ca0c154f",
   "metadata": {},
   "source": [
    "39. Check if a string contains only alphabets."
   ]
  },
  {
   "cell_type": "code",
   "execution_count": 5,
   "id": "c03d3c22-d73f-49ba-a0dd-b946c8379f27",
   "metadata": {},
   "outputs": [
    {
     "data": {
      "text/plain": [
       "False"
      ]
     },
     "execution_count": 5,
     "metadata": {},
     "output_type": "execute_result"
    }
   ],
   "source": [
    "my_str = \"A,. quick:;'' !brown fox\"\n",
    "my_str.isalpha()"
   ]
  },
  {
   "cell_type": "markdown",
   "id": "df735691-45de-4aab-875b-f9dd0cac34ce",
   "metadata": {},
   "source": [
    "40. Convert a string to a list of characters.\n"
   ]
  },
  {
   "cell_type": "code",
   "execution_count": 6,
   "id": "a33d3973-4b52-49ca-bf53-364418344acf",
   "metadata": {},
   "outputs": [
    {
     "name": "stdout",
     "output_type": "stream",
     "text": [
      "['A', ',', '.', ' ', 'q', 'u', 'i', 'c', 'k', ':', ';', \"'\", \"'\", ' ', '!', 'b', 'r', 'o', 'w', 'n', ' ', 'f', 'o', 'x']\n"
     ]
    }
   ],
   "source": [
    "my_str = \"A,. quick:;'' !brown fox\"\n",
    "l=[]\n",
    "for x in my_str:\n",
    "    l.append(x)\n",
    "print(l)"
   ]
  },
  {
   "cell_type": "markdown",
   "id": "7b3c08f4-c07e-4d27-8cfb-1538ea465e14",
   "metadata": {},
   "source": [
    "41. Check if two strings are anagrams."
   ]
  },
  {
   "cell_type": "code",
   "execution_count": 11,
   "id": "408f94d7-eec6-4edf-8372-933d02b68d33",
   "metadata": {},
   "outputs": [],
   "source": [
    "str1='hello world'\n",
    "str2= 'whello orld'\n",
    "dic1={}\n",
    "dic2={}\n",
    "for x in str1:\n",
    "    dic1[x]=str1.count(x)\n",
    "for y in str2:\n",
    "    dic2[y]=str2.count(y)\n",
    "\n"
   ]
  },
  {
   "cell_type": "code",
   "execution_count": 12,
   "id": "3e77eee1-b9cd-47bb-9a70-e7cdc4e2f5f6",
   "metadata": {},
   "outputs": [
    {
     "data": {
      "text/plain": [
       "{'h': 1, 'e': 1, 'l': 3, 'o': 2, ' ': 1, 'w': 1, 'r': 1, 'd': 1}"
      ]
     },
     "execution_count": 12,
     "metadata": {},
     "output_type": "execute_result"
    }
   ],
   "source": [
    "dic1"
   ]
  },
  {
   "cell_type": "code",
   "execution_count": 13,
   "id": "3778de78-6e4c-4276-9bd9-1f9ea20282c5",
   "metadata": {},
   "outputs": [
    {
     "data": {
      "text/plain": [
       "{'w': 1, 'h': 1, 'e': 1, 'l': 3, 'o': 2, ' ': 1, 'r': 1, 'd': 1}"
      ]
     },
     "execution_count": 13,
     "metadata": {},
     "output_type": "execute_result"
    }
   ],
   "source": [
    "dic2"
   ]
  },
  {
   "cell_type": "code",
   "execution_count": 14,
   "id": "6d147f29-6e72-4ba6-bf58-423d6959bf94",
   "metadata": {},
   "outputs": [
    {
     "data": {
      "text/plain": [
       "True"
      ]
     },
     "execution_count": 14,
     "metadata": {},
     "output_type": "execute_result"
    }
   ],
   "source": [
    "dic1==dic2\n"
   ]
  },
  {
   "cell_type": "markdown",
   "id": "0dc2d2ce-6f12-4f5a-b900-c216b4a07b1b",
   "metadata": {},
   "source": [
    "42. Encode a string using a Caesar cipher."
   ]
  },
  {
   "cell_type": "markdown",
   "id": "44e1d7a7-7ba9-40b0-8f24-5f276fe9037b",
   "metadata": {},
   "source": [
    "NEED HELP"
   ]
  },
  {
   "cell_type": "markdown",
   "id": "301c8013-1891-4e86-8a08-e6f31623f45e",
   "metadata": {},
   "source": [
    "43. Decode a Caesar cipher encoded string."
   ]
  },
  {
   "cell_type": "markdown",
   "id": "4090b209-df98-49a3-a714-6999500a48dd",
   "metadata": {},
   "source": [
    "Need HELP"
   ]
  },
  {
   "cell_type": "markdown",
   "id": "c44980c5-564d-47d5-8c85-3659673b87db",
   "metadata": {},
   "source": [
    "44. Find the most frequent word in a string."
   ]
  },
  {
   "cell_type": "code",
   "execution_count": 24,
   "id": "8dc200c0-9bba-4753-95e8-433980287b0a",
   "metadata": {},
   "outputs": [
    {
     "name": "stdout",
     "output_type": "stream",
     "text": [
      "Hello\n"
     ]
    }
   ],
   "source": [
    "my_str= 'Hello World Hello Hello India India  '\n",
    "l=my_str.split()\n",
    "count=0\n",
    "word=''\n",
    "for x in l:\n",
    "    if l.count(x) > count:\n",
    "        count = l.count(x)\n",
    "        word = \"\".join(x)\n",
    "    elif l.count(x) == count:\n",
    "        word = x\n",
    "\n",
    "print(word)\n",
    "    "
   ]
  },
  {
   "cell_type": "markdown",
   "id": "6ceabc67-edd0-456f-80a8-832589419ee8",
   "metadata": {},
   "source": [
    "45. Find all unique words in a string."
   ]
  },
  {
   "cell_type": "code",
   "execution_count": 27,
   "id": "187e387c-c5f7-4817-b673-e4d96d3c8a03",
   "metadata": {},
   "outputs": [],
   "source": [
    "my_str= 'Hello World Hello Hello India India  '\n",
    "my_set=set(my_str.split())"
   ]
  },
  {
   "cell_type": "code",
   "execution_count": 28,
   "id": "17028a7a-914c-40ca-8f61-6b80520e7083",
   "metadata": {},
   "outputs": [
    {
     "data": {
      "text/plain": [
       "{'Hello', 'India', 'World'}"
      ]
     },
     "execution_count": 28,
     "metadata": {},
     "output_type": "execute_result"
    }
   ],
   "source": [
    "my_set"
   ]
  },
  {
   "cell_type": "markdown",
   "id": "a6c50c37-a06b-40b3-ac2d-eba560fdd6e6",
   "metadata": {},
   "source": [
    "46. Count the number of syllables in a string."
   ]
  },
  {
   "cell_type": "markdown",
   "id": "e70b6d97-603d-4008-9db3-dfa797cef7c2",
   "metadata": {},
   "source": [
    "Need Help"
   ]
  },
  {
   "cell_type": "markdown",
   "id": "cf1f9766-dfd9-436e-93c9-bb57f5d801de",
   "metadata": {},
   "source": [
    "47. Check if a string contains any special characters."
   ]
  },
  {
   "cell_type": "code",
   "execution_count": 35,
   "id": "0a4c44fe-686c-4dc6-94ca-a6a81abe2619",
   "metadata": {},
   "outputs": [
    {
     "name": "stdout",
     "output_type": "stream",
     "text": [
      "Contains special char ['!', '@', '#', '$', '&']\n"
     ]
    }
   ],
   "source": [
    "my_str= 'Hello World Hello Hello India India !@#$ &'\n",
    "l=[]\n",
    "specialchar=['!','@','#','$','%','^','&','_']\n",
    "for x in my_str:\n",
    "    if x in specialchar:\n",
    "        l.append(x)\n",
    "    else:\n",
    "        pass\n",
    "if len(l)>0:\n",
    "    print('Contains special char',l)\n",
    "else:\n",
    "    print('No special char')"
   ]
  },
  {
   "cell_type": "markdown",
   "id": "912ba2e6-98d6-425e-bdbf-aefe78a28c73",
   "metadata": {},
   "source": [
    "48. Remove the nth word from a string."
   ]
  },
  {
   "cell_type": "code",
   "execution_count": 45,
   "id": "be18f111-3dc0-4edf-b260-127adaac559c",
   "metadata": {},
   "outputs": [
    {
     "name": "stdin",
     "output_type": "stream",
     "text": [
      "Enter the pos of the word to be deleted 3\n"
     ]
    },
    {
     "name": "stdout",
     "output_type": "stream",
     "text": [
      "['Hello', 'World', 'Hello', 'India', 'India', '!@#$', '&']\n"
     ]
    }
   ],
   "source": [
    "my_str= 'Hello World Hello Hello India India !@#$ &'\n",
    "index1= int(input('Enter the pos of the word to be deleted'))\n",
    "l1=list(my_str.split())\n",
    "l1.pop(index1)\n",
    "print(l1)"
   ]
  },
  {
   "cell_type": "markdown",
   "id": "e3e3a843-d69c-4725-baba-c0c06dd9049b",
   "metadata": {},
   "source": [
    "49. Insert a word at the nth position in a string."
   ]
  },
  {
   "cell_type": "code",
   "execution_count": 44,
   "id": "d82c5b8e-ce3c-4f7e-b378-f7ff72288125",
   "metadata": {},
   "outputs": [
    {
     "name": "stdin",
     "output_type": "stream",
     "text": [
      "enter the position 2\n",
      "Enter the word to be inserted hello\n"
     ]
    },
    {
     "name": "stdout",
     "output_type": "stream",
     "text": [
      "['Hello', 'World', 'hello', 'Hello', 'Hello', 'India', 'India', '!@#$', '&']\n"
     ]
    }
   ],
   "source": [
    "my_str= 'Hello World Hello Hello India India !@#$ &'\n",
    "index2=int(input('enter the position'))\n",
    "word=input('Enter the word to be inserted')\n",
    "l=list(my_str.split())\n",
    "l.insert(index2,word)\n",
    "print(l)"
   ]
  },
  {
   "cell_type": "markdown",
   "id": "1c818967-3cdd-47f2-8cc5-8407344e9c82",
   "metadata": {},
   "source": [
    "50. Convert a CSV string to a list of lists."
   ]
  },
  {
   "cell_type": "markdown",
   "id": "bde6c61f-9f40-4f77-b3e9-2d4addd40d1b",
   "metadata": {},
   "source": [
    "Need Help"
   ]
  },
  {
   "cell_type": "markdown",
   "id": "ce2c2f34-206d-4ba6-bcbd-a2006d91700a",
   "metadata": {},
   "source": [
    "## List Based Practice Problem 21-50"
   ]
  },
  {
   "cell_type": "markdown",
   "id": "4a6b7171-e744-4be4-8892-4d8bf907a36e",
   "metadata": {},
   "source": [
    "21. Find the common elements between two lists."
   ]
  },
  {
   "cell_type": "code",
   "execution_count": 4,
   "id": "1ba5ac17-02bc-4f27-a5d2-4aa1c6692f58",
   "metadata": {},
   "outputs": [],
   "source": [
    "l1=[1,2,5,78,9,34]\n",
    "l2=[34,56,12,33,671,2,1]"
   ]
  },
  {
   "cell_type": "code",
   "execution_count": 5,
   "id": "0be9ef53-93ff-4bdf-b65c-73636d01a2bc",
   "metadata": {},
   "outputs": [
    {
     "name": "stdout",
     "output_type": "stream",
     "text": [
      "[1, 2, 34]\n"
     ]
    }
   ],
   "source": [
    "l=[]\n",
    "for x in l1:\n",
    "    for y in l2:\n",
    "        if x == y:\n",
    "            l.append(x)\n",
    "\n",
    "print(l)"
   ]
  },
  {
   "cell_type": "markdown",
   "id": "f2d959b8-c985-4e62-85b5-074011d43837",
   "metadata": {},
   "source": [
    "22. Find the difference between two lists."
   ]
  },
  {
   "cell_type": "code",
   "execution_count": 8,
   "id": "aca6c3fc-d34c-4a3b-9088-a4547357ee05",
   "metadata": {},
   "outputs": [],
   "source": [
    "l1=[1,4,6,78,234]\n",
    "l2=[23,45,1,3,2,1,4,78]\n"
   ]
  },
  {
   "cell_type": "code",
   "execution_count": 11,
   "id": "eb873fc8-5c53-4a4c-b364-cec09a85b169",
   "metadata": {},
   "outputs": [
    {
     "name": "stdout",
     "output_type": "stream",
     "text": [
      "[23, 45, 3, 2]\n"
     ]
    }
   ],
   "source": [
    "l=[]\n",
    "for x in l1:\n",
    "    for y in l2:\n",
    "        if x == y:\n",
    "            l2.remove(x)\n",
    "           # l.append(y)\n",
    "print(l2)"
   ]
  },
  {
   "cell_type": "markdown",
   "id": "81c7e58f-3ec1-4385-86e9-c0dd2ffe8f04",
   "metadata": {},
   "source": [
    "23. Merge two lists."
   ]
  },
  {
   "cell_type": "code",
   "execution_count": 13,
   "id": "e003e87b-c6ae-4fa7-8bba-49539f9f9c56",
   "metadata": {},
   "outputs": [
    {
     "data": {
      "text/plain": [
       "[1, 4, 6, 78, 234, 23, 45, 1, 3, 2, 1, 4, 78]"
      ]
     },
     "execution_count": 13,
     "metadata": {},
     "output_type": "execute_result"
    }
   ],
   "source": [
    "l1=[1,4,6,78,234]\n",
    "l2=[23,45,1,3,2,1,4,78]\n",
    "l1+l2"
   ]
  },
  {
   "cell_type": "markdown",
   "id": "1c2c4bcd-57da-41eb-8bb0-a228e1c5c9f7",
   "metadata": {},
   "source": [
    "24. Multiply all elements in a list by 2."
   ]
  },
  {
   "cell_type": "code",
   "execution_count": 5,
   "id": "19343d55-2234-43ef-9430-478d022e93e1",
   "metadata": {},
   "outputs": [],
   "source": [
    "l2=[1,2,3]"
   ]
  },
  {
   "cell_type": "code",
   "execution_count": 6,
   "id": "b820b841-82f6-40db-b25d-72f1645f433b",
   "metadata": {},
   "outputs": [],
   "source": [
    "l=[]\n",
    "for x in l2:\n",
    "    l.append(x*2)"
   ]
  },
  {
   "cell_type": "code",
   "execution_count": 7,
   "id": "f3551b3b-5375-4b0f-aba2-623f321f092d",
   "metadata": {},
   "outputs": [
    {
     "data": {
      "text/plain": [
       "[2, 4, 6]"
      ]
     },
     "execution_count": 7,
     "metadata": {},
     "output_type": "execute_result"
    }
   ],
   "source": [
    "l"
   ]
  },
  {
   "cell_type": "markdown",
   "id": "5af1c88e-3b31-4285-bebf-12a27df46a16",
   "metadata": {},
   "source": [
    "25. Filter out all even numbers from a list."
   ]
  },
  {
   "cell_type": "code",
   "execution_count": 31,
   "id": "8b604cd6-15d4-40f0-b848-08d6f9f342d9",
   "metadata": {},
   "outputs": [],
   "source": [
    "l1= list(random.sample(range(1,100),random.randint(1,100)))"
   ]
  },
  {
   "cell_type": "code",
   "execution_count": 32,
   "id": "bb92712b-5716-495a-89d7-c1d1904cf7ce",
   "metadata": {},
   "outputs": [
    {
     "data": {
      "text/plain": [
       "[67, 90, 14, 34, 28, 33, 96, 41, 26, 17, 38, 77, 87, 8, 13, 70, 82, 3]"
      ]
     },
     "execution_count": 32,
     "metadata": {},
     "output_type": "execute_result"
    }
   ],
   "source": [
    "l1"
   ]
  },
  {
   "cell_type": "code",
   "execution_count": 33,
   "id": "71c3bf36-0ac9-4e23-af09-f74a3d19e64f",
   "metadata": {},
   "outputs": [
    {
     "data": {
      "text/plain": [
       "[90, 14, 34, 28, 96, 26, 38, 8, 70, 82]"
      ]
     },
     "execution_count": 33,
     "metadata": {},
     "output_type": "execute_result"
    }
   ],
   "source": [
    "l=[]\n",
    "for x in l1:\n",
    "    if x%2==0:\n",
    "        l.append(x)\n",
    "l"
   ]
  },
  {
   "cell_type": "markdown",
   "id": "56ca0f50-f28b-4b3d-bdba-618b93ec67d7",
   "metadata": {},
   "source": [
    "26. Convert a list of strings to a list of integers."
   ]
  },
  {
   "cell_type": "code",
   "execution_count": 39,
   "id": "1dd4fe02-8c6d-4649-aba3-0e21cf53d813",
   "metadata": {},
   "outputs": [],
   "source": [
    "l=['123','1']\n",
    "l1=[]"
   ]
  },
  {
   "cell_type": "code",
   "execution_count": 40,
   "id": "20632b76-16b5-45ee-b4de-18d877dbfac1",
   "metadata": {},
   "outputs": [
    {
     "data": {
      "text/plain": [
       "[123, 1]"
      ]
     },
     "execution_count": 40,
     "metadata": {},
     "output_type": "execute_result"
    }
   ],
   "source": [
    "for x in l:\n",
    "    l1.append(int(x))\n",
    "l1"
   ]
  },
  {
   "cell_type": "markdown",
   "id": "ad00f116-7563-4332-a034-baaff0ff727a",
   "metadata": {},
   "source": [
    "27. Convert a list of integers to a list of strings."
   ]
  },
  {
   "cell_type": "code",
   "execution_count": 46,
   "id": "def73e61-85a4-44fc-ad8d-697f9c9d56c9",
   "metadata": {},
   "outputs": [],
   "source": [
    "l1\n",
    "l2=[]"
   ]
  },
  {
   "cell_type": "code",
   "execution_count": 44,
   "id": "07f76905-8455-445d-bff1-e57044bc50d5",
   "metadata": {},
   "outputs": [
    {
     "data": {
      "text/plain": [
       "['123', '1']"
      ]
     },
     "execution_count": 44,
     "metadata": {},
     "output_type": "execute_result"
    }
   ],
   "source": [
    "for x in l1:\n",
    "    l2.append(str(x))\n",
    "l2"
   ]
  },
  {
   "cell_type": "markdown",
   "id": "31c9c21d-6bfa-493c-93ee-ff3080d544b8",
   "metadata": {},
   "source": [
    "28. Flatten a nested list."
   ]
  },
  {
   "cell_type": "code",
   "execution_count": 58,
   "id": "69b46f18-0ad9-4599-ae73-69e17f4eb319",
   "metadata": {},
   "outputs": [],
   "source": [
    "l1=[[1],[2],[3,4],[7,8]]\n",
    "l2=[]"
   ]
  },
  {
   "cell_type": "code",
   "execution_count": 59,
   "id": "2f7ea52e-8494-4f11-9c04-217f75d04629",
   "metadata": {},
   "outputs": [
    {
     "data": {
      "text/plain": [
       "[1, 2, 3, 4, 7, 8]"
      ]
     },
     "execution_count": 59,
     "metadata": {},
     "output_type": "execute_result"
    }
   ],
   "source": [
    "for x in l1:\n",
    "    for y in x:\n",
    "        l2.append(y)\n",
    "l2"
   ]
  },
  {
   "cell_type": "markdown",
   "id": "0da10bfe-0f10-485e-b35b-b33e95e61b8e",
   "metadata": {},
   "source": [
    "29. Create a list of the first 10 Fibonacci numbers."
   ]
  },
  {
   "cell_type": "code",
   "execution_count": 8,
   "id": "8a94eacf-ec73-4de1-a43a-d3fdb4103102",
   "metadata": {},
   "outputs": [
    {
     "name": "stdout",
     "output_type": "stream",
     "text": [
      "[0, 1, 1, 2, 3, 5, 8, 13, 21, 34, 55, 89, 144, 233, 377, 610, 987, 1597, 2584, 4181, 6765]\n"
     ]
    }
   ],
   "source": [
    "y=0\n",
    "x=1\n",
    "l=[0,1]\n",
    "for a in range(1,20):\n",
    "    temp=x+y\n",
    "    l.append(temp)\n",
    "    y=x\n",
    "    x=temp\n",
    "print(l)\n",
    "\n",
    "    "
   ]
  },
  {
   "cell_type": "markdown",
   "id": "8c425f31-6417-4511-b090-5f8f4b64ad37",
   "metadata": {},
   "source": [
    "30. Check if a list is sorted."
   ]
  },
  {
   "cell_type": "code",
   "execution_count": 62,
   "id": "7699a6e2-23c3-46e8-96e4-8d18ed5074b2",
   "metadata": {},
   "outputs": [],
   "source": [
    "l2 = [2,1,50,1,43,90]"
   ]
  },
  {
   "cell_type": "code",
   "execution_count": 63,
   "id": "31492f4b-464f-4e60-b426-8cc503c58587",
   "metadata": {},
   "outputs": [],
   "source": [
    "l1= sorted(l2)"
   ]
  },
  {
   "cell_type": "code",
   "execution_count": 64,
   "id": "207594e0-5ca2-4332-9287-fec40ef0bc3d",
   "metadata": {},
   "outputs": [
    {
     "data": {
      "text/plain": [
       "False"
      ]
     },
     "execution_count": 64,
     "metadata": {},
     "output_type": "execute_result"
    }
   ],
   "source": [
    "l1==l2"
   ]
  },
  {
   "cell_type": "markdown",
   "id": "f2b6ed79-4859-4fa4-9b11-bca215a2670a",
   "metadata": {},
   "source": [
    "31. Rotate a list to the left by `n` positions."
   ]
  },
  {
   "cell_type": "code",
   "execution_count": 10,
   "id": "39b75edf-0e9e-4424-b468-6b2dbc6a639b",
   "metadata": {},
   "outputs": [
    {
     "name": "stdin",
     "output_type": "stream",
     "text": [
      "enter shift num 3\n"
     ]
    },
    {
     "name": "stdout",
     "output_type": "stream",
     "text": [
      "[16, 25, 36, 49, 1, 4, 9]\n"
     ]
    }
   ],
   "source": [
    "l=[1,4,9,16,25,36,49]\n",
    "\n",
    "n = int(input('enter shift num'))\n",
    "\n",
    "l1= l[n:]+l[:n]\n",
    "print(l1)"
   ]
  },
  {
   "cell_type": "markdown",
   "id": "877872f4-d8a3-4f92-afc8-d4bc999a8aa4",
   "metadata": {},
   "source": [
    "32. Rotate a list to the right by `n` positions."
   ]
  },
  {
   "cell_type": "code",
   "execution_count": 2,
   "id": "6094a7f7-4908-4308-8df5-c44a9e2b8265",
   "metadata": {},
   "outputs": [
    {
     "name": "stdin",
     "output_type": "stream",
     "text": [
      "enter shift num 3\n"
     ]
    },
    {
     "name": "stdout",
     "output_type": "stream",
     "text": [
      "[25, 36, 49, 1, 4, 9, 16]\n"
     ]
    }
   ],
   "source": [
    "l=[1,4,9,16,25,36,49]\n",
    "\n",
    "n = int(input('enter shift num'))\n",
    "\n",
    "l2= l[-n:]+l[:-n]\n",
    "print(l2)"
   ]
  },
  {
   "cell_type": "markdown",
   "id": "1d3ae860-4c46-4469-918e-2a1800ffc40b",
   "metadata": {},
   "source": [
    "33. Create a list of prime numbers up to 50."
   ]
  },
  {
   "cell_type": "code",
   "execution_count": 7,
   "id": "02dfcd91-878a-4353-befd-a2cf2583b435",
   "metadata": {},
   "outputs": [
    {
     "name": "stdout",
     "output_type": "stream",
     "text": [
      "[2, 3, 5, 7, 11, 13, 17, 19, 23, 29, 31, 37, 41, 43, 47, 53, 59, 61, 67, 71, 73, 79, 83, 89, 97]\n"
     ]
    }
   ],
   "source": [
    "l=[]\n",
    "for x in range(2,100):\n",
    "    count=0\n",
    "    for y in range(1,x+1):\n",
    "        if (x%y) == 0:\n",
    "            count = count+1\n",
    "    if count == 2:\n",
    "        l.append(x)\n",
    "print(l)\n"
   ]
  },
  {
   "cell_type": "code",
   "execution_count": 6,
   "id": "013b3f2e-5b32-4caf-83d6-cdc202e287d0",
   "metadata": {},
   "outputs": [
    {
     "data": {
      "text/plain": [
       "[2, 3, 5, 7, 11, 13, 17, 19, 23, 29, 31, 37, 41, 43, 47]"
      ]
     },
     "execution_count": 6,
     "metadata": {},
     "output_type": "execute_result"
    }
   ],
   "source": [
    "l"
   ]
  },
  {
   "cell_type": "code",
   "execution_count": 4,
   "id": "d5392620-934a-4015-a01c-840ed1e54422",
   "metadata": {},
   "outputs": [
    {
     "name": "stdout",
     "output_type": "stream",
     "text": [
      "2 3 5 7 11 13 17 19 23 29 31 37 41 43 47 53 59 61 67 71 73 79 83 89 97 "
     ]
    }
   ],
   "source": [
    "for x in range(2,100):\n",
    "    count = 0\n",
    "    for y in range(2,(x//2+1)):\n",
    "        if x%y == 0:\n",
    "            count += 1\n",
    "            break\n",
    "    \n",
    "    if count==0:\n",
    "        print(x, end= ' ')"
   ]
  },
  {
   "cell_type": "markdown",
   "id": "7c62d392-28b6-4f17-92bd-3cfa8d0fc868",
   "metadata": {},
   "source": [
    "34. Split a list into chunks of size `n`."
   ]
  },
  {
   "cell_type": "code",
   "execution_count": 18,
   "id": "9f559c2e-24ab-4527-bb6d-1342a5e3a57a",
   "metadata": {},
   "outputs": [
    {
     "name": "stdin",
     "output_type": "stream",
     "text": [
      "enter chunk size 5\n"
     ]
    },
    {
     "name": "stdout",
     "output_type": "stream",
     "text": [
      "[0, 1, 2, 3, 4]\n",
      "[5, 6, 7, 8, 9]\n",
      "[10, 11, 12, 13, 14]\n",
      "[15, 16, 17, 18, 19]\n"
     ]
    }
   ],
   "source": [
    "l = list(range(20))\n",
    "chunk = int(input('enter chunk size'))\n",
    "while l:\n",
    "    new, l = l[:chunk], l[chunk:]\n",
    "    print(new)"
   ]
  },
  {
   "cell_type": "markdown",
   "id": "95339377-f695-425f-b365-7508caaa913c",
   "metadata": {},
   "source": [
    "35. Find the second largest number in a list."
   ]
  },
  {
   "cell_type": "code",
   "execution_count": 20,
   "id": "73e61992-92f6-4d4d-a7c2-bc73bc95da33",
   "metadata": {},
   "outputs": [],
   "source": [
    "l = list(range(20,50))"
   ]
  },
  {
   "cell_type": "code",
   "execution_count": 21,
   "id": "0baaa37c-78b9-4a71-8b32-d4cb848829e6",
   "metadata": {},
   "outputs": [],
   "source": [
    "l.sort()"
   ]
  },
  {
   "cell_type": "code",
   "execution_count": 23,
   "id": "de7a44ca-b7a7-456b-aad9-6ae3272fa320",
   "metadata": {},
   "outputs": [
    {
     "data": {
      "text/plain": [
       "48"
      ]
     },
     "execution_count": 23,
     "metadata": {},
     "output_type": "execute_result"
    }
   ],
   "source": [
    "l[-2]"
   ]
  },
  {
   "cell_type": "markdown",
   "id": "2e844541-b116-4da1-9989-441dc2f2c281",
   "metadata": {},
   "source": [
    "36. Replace every element in a list with its square."
   ]
  },
  {
   "cell_type": "code",
   "execution_count": 31,
   "id": "8349bd6e-7295-420f-9088-bf1342da02b5",
   "metadata": {},
   "outputs": [
    {
     "name": "stdout",
     "output_type": "stream",
     "text": [
      "[0, 1, 4, 9, 16, 25, 36, 49, 64, 81]\n"
     ]
    }
   ],
   "source": [
    "l=list(range(10))\n",
    "for x in range(len(l)):\n",
    "    l[x]=l[x]**2\n",
    "\n",
    "print(l)\n",
    "    "
   ]
  },
  {
   "cell_type": "markdown",
   "id": "8a8f7216-eb5f-49c0-a2f2-6d493bee83d5",
   "metadata": {},
   "source": [
    "37. Convert a list to a dictionary where list elements become keys and their\n",
    "indices become values."
   ]
  },
  {
   "cell_type": "code",
   "execution_count": 34,
   "id": "3f5f3ce9-070f-4af5-9bb2-c0971488d71a",
   "metadata": {},
   "outputs": [],
   "source": [
    "l = list(range(20,30))\n",
    "d={}\n",
    "for y,x in enumerate(l):\n",
    "    d[x]=y"
   ]
  },
  {
   "cell_type": "code",
   "execution_count": 35,
   "id": "585e9335-432b-4c23-9e3c-122b7cd63636",
   "metadata": {},
   "outputs": [
    {
     "data": {
      "text/plain": [
       "{20: 0, 21: 1, 22: 2, 23: 3, 24: 4, 25: 5, 26: 6, 27: 7, 28: 8, 29: 9}"
      ]
     },
     "execution_count": 35,
     "metadata": {},
     "output_type": "execute_result"
    }
   ],
   "source": [
    "d"
   ]
  },
  {
   "cell_type": "markdown",
   "id": "4b71d12c-b608-4998-aa39-4cd21fb1824a",
   "metadata": {},
   "source": [
    "38. Shuffle the elements of a list randomly."
   ]
  },
  {
   "cell_type": "code",
   "execution_count": 37,
   "id": "14f61a5f-b26e-4b0e-befa-5edd2cee6b86",
   "metadata": {},
   "outputs": [],
   "source": [
    "import random"
   ]
  },
  {
   "cell_type": "code",
   "execution_count": 38,
   "id": "9ae789f6-e85e-4402-85f3-ddf3fe7b8a90",
   "metadata": {},
   "outputs": [],
   "source": [
    "random.shuffle(l)"
   ]
  },
  {
   "cell_type": "code",
   "execution_count": 39,
   "id": "797ebe99-5cd8-4898-b30a-999ed6b696d0",
   "metadata": {},
   "outputs": [
    {
     "data": {
      "text/plain": [
       "[25, 23, 22, 29, 21, 24, 28, 20, 27, 26]"
      ]
     },
     "execution_count": 39,
     "metadata": {},
     "output_type": "execute_result"
    }
   ],
   "source": [
    "l"
   ]
  },
  {
   "cell_type": "markdown",
   "id": "e231765f-c701-46b4-b81d-80540ddcd9be",
   "metadata": {},
   "source": [
    "39. Create a list of the first 10 factorial numbers."
   ]
  },
  {
   "cell_type": "code",
   "execution_count": 43,
   "id": "0efd3954-a645-4de6-9022-d80fc2a13c99",
   "metadata": {},
   "outputs": [
    {
     "name": "stdout",
     "output_type": "stream",
     "text": [
      "[1, 2, 6, 24, 120, 720, 5040, 40320, 362880, 3628800]\n"
     ]
    }
   ],
   "source": [
    "l=[]\n",
    "a=1\n",
    "temp=1\n",
    "while a <11:\n",
    "    temp=a*temp\n",
    "    a+=1\n",
    "    l.append(temp)\n",
    "print(l)"
   ]
  },
  {
   "cell_type": "markdown",
   "id": "a4352aea-a209-4a68-b7bb-eb0d0da87760",
   "metadata": {},
   "source": [
    "40. Check if two lists have at least one element in common."
   ]
  },
  {
   "cell_type": "code",
   "execution_count": 46,
   "id": "c8d8d5fe-32d8-44b6-a04b-efb0973574b8",
   "metadata": {},
   "outputs": [
    {
     "name": "stdout",
     "output_type": "stream",
     "text": [
      "Lists l1 and l2 have common elements [1, 8]\n"
     ]
    }
   ],
   "source": [
    "l1=[1,2,5,6,8,9]\n",
    "l2=[1,7,8,11,22,33]\n",
    "l3=[]\n",
    "for x in l1:\n",
    "    if x in l2:\n",
    "        l3.append(x)\n",
    "if len(l3) > 0:\n",
    "    print('Lists l1 and l2 have common elements',l3)\n",
    "else:\n",
    "    print('Lists l1 and l2 have no common element')"
   ]
  },
  {
   "cell_type": "markdown",
   "id": "ffb4dc94-decb-426c-bc6d-64bd50d0932c",
   "metadata": {},
   "source": [
    "41. Remove all elements from a list."
   ]
  },
  {
   "cell_type": "code",
   "execution_count": 47,
   "id": "e55b4f59-aba7-41f8-9fdc-b56e064489c1",
   "metadata": {},
   "outputs": [],
   "source": [
    "l=list(range(10))"
   ]
  },
  {
   "cell_type": "code",
   "execution_count": 48,
   "id": "84252afb-1fb5-445d-be06-6878a8ed9429",
   "metadata": {},
   "outputs": [
    {
     "data": {
      "text/plain": [
       "[0, 1, 2, 3, 4, 5, 6, 7, 8, 9]"
      ]
     },
     "execution_count": 48,
     "metadata": {},
     "output_type": "execute_result"
    }
   ],
   "source": [
    "l"
   ]
  },
  {
   "cell_type": "code",
   "execution_count": 49,
   "id": "3b1ccea8-099b-4962-ab01-2014d504f083",
   "metadata": {},
   "outputs": [],
   "source": [
    "l.clear()"
   ]
  },
  {
   "cell_type": "code",
   "execution_count": 50,
   "id": "09e5463e-d72d-49a3-bdd8-1c901c61aeae",
   "metadata": {},
   "outputs": [
    {
     "data": {
      "text/plain": [
       "[]"
      ]
     },
     "execution_count": 50,
     "metadata": {},
     "output_type": "execute_result"
    }
   ],
   "source": [
    "l"
   ]
  },
  {
   "cell_type": "markdown",
   "id": "d6af7732-3d5b-4c2e-8268-e085c0d019f2",
   "metadata": {},
   "source": [
    "42. Replace negative numbers in a list with 0."
   ]
  },
  {
   "cell_type": "code",
   "execution_count": 51,
   "id": "36403d36-b711-4012-89d6-62fb82713c90",
   "metadata": {},
   "outputs": [
    {
     "name": "stdout",
     "output_type": "stream",
     "text": [
      "[0, 0, 0, 1, 2, 4, 0]\n"
     ]
    }
   ],
   "source": [
    "l=[-1,-2,-5,1,2,4,-9]\n",
    "\n",
    "for x in range(len(l)):\n",
    "    if l[x]<0:\n",
    "        l[x] = 0\n",
    "print(l)\n",
    "        "
   ]
  },
  {
   "cell_type": "markdown",
   "id": "098e6eb8-2f58-48f2-ae33-71232dc499b0",
   "metadata": {},
   "source": [
    "43. Convert a string into a list of words."
   ]
  },
  {
   "cell_type": "code",
   "execution_count": 53,
   "id": "5e193ccc-1aa3-41ca-8155-87ea13e330c3",
   "metadata": {},
   "outputs": [
    {
     "name": "stdout",
     "output_type": "stream",
     "text": [
      "['hello', 'world']\n"
     ]
    }
   ],
   "source": [
    "mystr= 'hello world'\n",
    "l= mystr.split()\n",
    "print(l)"
   ]
  },
  {
   "cell_type": "markdown",
   "id": "fe708a9b-5767-4ed5-9aeb-00d1238ce3e1",
   "metadata": {},
   "source": [
    "44. Convert a list of words into a string."
   ]
  },
  {
   "cell_type": "code",
   "execution_count": 55,
   "id": "b77d3965-1599-4190-a8f4-2663811eab49",
   "metadata": {},
   "outputs": [
    {
     "data": {
      "text/plain": [
       "['hello', 'world']"
      ]
     },
     "execution_count": 55,
     "metadata": {},
     "output_type": "execute_result"
    }
   ],
   "source": [
    "l"
   ]
  },
  {
   "cell_type": "code",
   "execution_count": 56,
   "id": "a186a033-e6be-42b8-b61b-c854252eac4f",
   "metadata": {},
   "outputs": [],
   "source": [
    "newstr= \" \".join(l)"
   ]
  },
  {
   "cell_type": "code",
   "execution_count": 57,
   "id": "24ea1e16-14e5-4da0-b403-cec8156011a6",
   "metadata": {},
   "outputs": [
    {
     "data": {
      "text/plain": [
       "'hello world'"
      ]
     },
     "execution_count": 57,
     "metadata": {},
     "output_type": "execute_result"
    }
   ],
   "source": [
    "newstr"
   ]
  },
  {
   "cell_type": "markdown",
   "id": "fb7f227f-dd05-4c0b-a3ba-fee05bb381d9",
   "metadata": {},
   "source": [
    "45. Create a list of the first `n` powers of 2."
   ]
  },
  {
   "cell_type": "code",
   "execution_count": 62,
   "id": "1db719f0-dd42-45f5-9a7d-68086511f21b",
   "metadata": {},
   "outputs": [
    {
     "name": "stdin",
     "output_type": "stream",
     "text": [
      "Enter n 10\n"
     ]
    },
    {
     "name": "stdout",
     "output_type": "stream",
     "text": [
      "[1, 2, 4, 8, 16, 32, 64, 128, 256, 512, 1024]\n"
     ]
    }
   ],
   "source": [
    "l=[]\n",
    "n=int(input('Enter n'))\n",
    "for x in range(n+1):\n",
    "    l.append(2**x)\n",
    "print(l)"
   ]
  },
  {
   "cell_type": "markdown",
   "id": "2470a560-c5b6-45f1-845b-b39288ab4267",
   "metadata": {},
   "source": [
    "46. Find the longest string in a list of strings."
   ]
  },
  {
   "cell_type": "code",
   "execution_count": 63,
   "id": "7747febd-296a-4d39-a4b5-d6df20f5aed8",
   "metadata": {},
   "outputs": [
    {
     "name": "stdout",
     "output_type": "stream",
     "text": [
      "the longest word is demasiado\n"
     ]
    }
   ],
   "source": [
    "l=['hello','wor','demasiado','caro']\n",
    "strlen=0\n",
    "word=' '\n",
    "for x,y in enumerate(l):\n",
    "    if len(y)>strlen:\n",
    "        strlen=len(y)\n",
    "        word = y\n",
    "print('the longest word is', word)\n",
    "        "
   ]
  },
  {
   "cell_type": "markdown",
   "id": "de7c7de7-20c6-4865-b9fb-08624d7ba7b2",
   "metadata": {},
   "source": [
    "47. Find the shortest string in a list of strings."
   ]
  },
  {
   "cell_type": "code",
   "execution_count": 64,
   "id": "a7f4af50-0ee5-45c1-96dd-55c4757753c9",
   "metadata": {},
   "outputs": [
    {
     "name": "stdout",
     "output_type": "stream",
     "text": [
      "the shortest word is wor\n"
     ]
    }
   ],
   "source": [
    "l=['hello','wor','demasiado','caro']\n",
    "strlen=100\n",
    "word=' '\n",
    "for x,y in enumerate(l):\n",
    "    if len(y)<strlen:\n",
    "        strlen=len(y)\n",
    "        word = y\n",
    "print('the shortest word is', word)\n",
    "        "
   ]
  },
  {
   "cell_type": "markdown",
   "id": "b1d180f5-f846-4c9f-83e3-bec030d3b905",
   "metadata": {},
   "source": [
    "48. Create a list of the first `n` triangular numbers."
   ]
  },
  {
   "cell_type": "code",
   "execution_count": 18,
   "id": "5711dea9-cb87-4935-b80c-7420842d9ab9",
   "metadata": {},
   "outputs": [
    {
     "name": "stdin",
     "output_type": "stream",
     "text": [
      " 3\n"
     ]
    },
    {
     "name": "stdout",
     "output_type": "stream",
     "text": [
      "[1, 3, 6]\n"
     ]
    }
   ],
   "source": [
    "x=1\n",
    "y=0\n",
    "l=[]\n",
    "n=int(input())\n",
    "for i in range(n):\n",
    "    temp = x+y\n",
    "    l.append(temp)\n",
    "    y=temp\n",
    "    x+=1\n",
    "print(l)   "
   ]
  },
  {
   "cell_type": "markdown",
   "id": "794a15a3-e3bf-4cd7-a1df-e4014b381a2f",
   "metadata": {},
   "source": [
    "49. Check if a list contains another list as a subsequence."
   ]
  },
  {
   "cell_type": "code",
   "execution_count": 72,
   "id": "bdd5dd7d-bd03-4fc1-a411-1374b3d4a236",
   "metadata": {},
   "outputs": [
    {
     "data": {
      "text/plain": [
       "True"
      ]
     },
     "execution_count": 72,
     "metadata": {},
     "output_type": "execute_result"
    }
   ],
   "source": [
    "l=[1,2,3,4,5,6]\n",
    "l1=[2,3,4]\n",
    "s= set(l)\n",
    "s1=set(l1)\n",
    "s1.issubset(s)"
   ]
  },
  {
   "cell_type": "markdown",
   "id": "74e5ae4f-d9c3-4d4f-b815-b737028369ed",
   "metadata": {},
   "source": [
    "50. Swap two elements in a list by their indices."
   ]
  },
  {
   "cell_type": "code",
   "execution_count": 5,
   "id": "a4dba8eb-14f3-4146-bc12-64abde8b0aa2",
   "metadata": {},
   "outputs": [],
   "source": [
    "l=list(range(10))"
   ]
  },
  {
   "cell_type": "code",
   "execution_count": 6,
   "id": "f95fa25d-f72b-4ef5-a2d6-64329ef24ad0",
   "metadata": {},
   "outputs": [
    {
     "data": {
      "text/plain": [
       "[0, 1, 2, 3, 4, 5, 6, 7, 8, 9]"
      ]
     },
     "execution_count": 6,
     "metadata": {},
     "output_type": "execute_result"
    }
   ],
   "source": [
    "l"
   ]
  },
  {
   "cell_type": "code",
   "execution_count": 10,
   "id": "f8c5d2c0-6a3b-46f7-bd2f-88c2bb6e0965",
   "metadata": {},
   "outputs": [
    {
     "name": "stdin",
     "output_type": "stream",
     "text": [
      "Enter index 1 1\n",
      "Enter index 2 2\n"
     ]
    },
    {
     "name": "stdout",
     "output_type": "stream",
     "text": [
      "[0, 1, 3, 2, 4, 5, 6, 7, 8, 9]\n"
     ]
    }
   ],
   "source": [
    "x = int(input(\"Enter index 1\"))\n",
    "y = int(input(\"Enter index 2\"))\n",
    "l[x],l[y] = l[y], l[x]\n",
    "print(l)"
   ]
  },
  {
   "cell_type": "markdown",
   "id": "379d6243-8d82-4e7a-aca7-5c1d6f6066d3",
   "metadata": {},
   "source": [
    "## Tuple Based Practice Problem : 21 - 50"
   ]
  },
  {
   "cell_type": "markdown",
   "id": "5801b066-3132-4310-83dc-de8420c7f113",
   "metadata": {},
   "source": [
    "21. Find the maximum value in a tuple."
   ]
  },
  {
   "cell_type": "code",
   "execution_count": 11,
   "id": "84f774ad-5ce5-43d6-8c67-996d9b411ad5",
   "metadata": {},
   "outputs": [
    {
     "data": {
      "text/plain": [
       "445345"
      ]
     },
     "execution_count": 11,
     "metadata": {},
     "output_type": "execute_result"
    }
   ],
   "source": [
    "t = (1,2,3,4,22,33,1312,445345,242,890)\n",
    "max(t)"
   ]
  },
  {
   "cell_type": "markdown",
   "id": "3e3fd741-a21c-4092-a123-6750f45bb555",
   "metadata": {},
   "source": [
    "22. Find the minimum value in a tuple."
   ]
  },
  {
   "cell_type": "code",
   "execution_count": 12,
   "id": "a9abe75a-ec93-4e90-9eb3-f2b437ef6dd4",
   "metadata": {},
   "outputs": [
    {
     "data": {
      "text/plain": [
       "1"
      ]
     },
     "execution_count": 12,
     "metadata": {},
     "output_type": "execute_result"
    }
   ],
   "source": [
    "t = (1,2,3,4,22,33,1312,445345,242,890)\n",
    "min(t)"
   ]
  },
  {
   "cell_type": "markdown",
   "id": "713f0fd4-938a-4e8d-ac44-371d7d083541",
   "metadata": {},
   "source": [
    "23. Convert a string to a tuple of characters."
   ]
  },
  {
   "cell_type": "code",
   "execution_count": 17,
   "id": "b6a83732-e948-449d-a6d1-cd9f7b8ddd2f",
   "metadata": {},
   "outputs": [],
   "source": [
    "mystring = \"hello world\"\n",
    "l = tuple([ x for x in mystring])"
   ]
  },
  {
   "cell_type": "code",
   "execution_count": 18,
   "id": "afdbba23-f676-4e4a-8826-98ea80be1cb5",
   "metadata": {},
   "outputs": [
    {
     "data": {
      "text/plain": [
       "('h', 'e', 'l', 'l', 'o', ' ', 'w', 'o', 'r', 'l', 'd')"
      ]
     },
     "execution_count": 18,
     "metadata": {},
     "output_type": "execute_result"
    }
   ],
   "source": [
    "l"
   ]
  },
  {
   "cell_type": "markdown",
   "id": "1d37bf0a-a9ee-4017-9bd3-f45ce313e84e",
   "metadata": {},
   "source": [
    "24. Convert a tuple of characters to a string."
   ]
  },
  {
   "cell_type": "code",
   "execution_count": 21,
   "id": "a78b94f9-790a-4a1e-b6c2-3e81ec4b3511",
   "metadata": {},
   "outputs": [
    {
     "name": "stdout",
     "output_type": "stream",
     "text": [
      "hello world\n"
     ]
    }
   ],
   "source": [
    "str =''\n",
    "for x in l:\n",
    "    str = str+x\n",
    "print(str)"
   ]
  },
  {
   "cell_type": "markdown",
   "id": "b64e0b61-e93c-4959-9925-207dac207d42",
   "metadata": {},
   "source": [
    "25. Create a tuple from multiple data types."
   ]
  },
  {
   "cell_type": "code",
   "execution_count": 38,
   "id": "7cb6fbaa-6ffd-46c1-9250-3e9ced98ffc8",
   "metadata": {},
   "outputs": [
    {
     "name": "stdin",
     "output_type": "stream",
     "text": [
      "enter any thing, write quit to exit the loop 231\n",
      "enter any thing, write quit to exit the loop shasd\n",
      "enter any thing, write quit to exit the loop JSSDd\n",
      "enter any thing, write quit to exit the loop quitr\n",
      "enter any thing, write quit to exit the loop quit\n"
     ]
    },
    {
     "name": "stdout",
     "output_type": "stream",
     "text": [
      "('231', 'shasd', 'JSSDd', 'quitr')\n"
     ]
    }
   ],
   "source": [
    "l=[]\n",
    "y=\"\"\n",
    "while y!='quit':\n",
    "    l.append(y)\n",
    "    y = input(\"enter any thing, write quit to exit the loop\")\n",
    "\n",
    "\n",
    "x = tuple(l[1::])\n",
    "print(x)"
   ]
  },
  {
   "cell_type": "markdown",
   "id": "d8a1056d-cd60-4de4-9780-8fc550ac3b9a",
   "metadata": {},
   "source": [
    "26. Check if two tuples are identical."
   ]
  },
  {
   "cell_type": "code",
   "execution_count": 42,
   "id": "89999a62-d2a8-4d73-98cb-edb340c783a9",
   "metadata": {},
   "outputs": [
    {
     "name": "stdout",
     "output_type": "stream",
     "text": [
      "False\n"
     ]
    }
   ],
   "source": [
    "t = tuple(range(10))\n",
    "t1 = tuple(range(100))\n",
    "\n",
    "if set(t) == set(t1):\n",
    "    print(True)\n",
    "else:\n",
    "    print(False)"
   ]
  },
  {
   "cell_type": "markdown",
   "id": "7dc499a3-41e4-4571-900b-9374077497a4",
   "metadata": {},
   "source": [
    "27. Sort the elements of a tuple."
   ]
  },
  {
   "cell_type": "code",
   "execution_count": 46,
   "id": "794923ee-1aa0-4c37-bb6c-83e8999bc635",
   "metadata": {},
   "outputs": [],
   "source": [
    "t = (1,2,41,2,324,12,24,45,6,7,10029,2312)"
   ]
  },
  {
   "cell_type": "code",
   "execution_count": 47,
   "id": "8da9df6a-d2e5-471d-9f3a-6ff28c44ee9a",
   "metadata": {},
   "outputs": [],
   "source": [
    "t= sorted(t)"
   ]
  },
  {
   "cell_type": "code",
   "execution_count": 48,
   "id": "4a90db42-6dbc-43f3-a20c-b4702c2ffb18",
   "metadata": {},
   "outputs": [
    {
     "data": {
      "text/plain": [
       "[1, 2, 2, 6, 7, 12, 24, 41, 45, 324, 2312, 10029]"
      ]
     },
     "execution_count": 48,
     "metadata": {},
     "output_type": "execute_result"
    }
   ],
   "source": [
    "t"
   ]
  },
  {
   "cell_type": "markdown",
   "id": "978bf6c4-8374-4891-89ed-defc9c036532",
   "metadata": {},
   "source": [
    "28. Convert a tuple of integers to a tuple of strings."
   ]
  },
  {
   "cell_type": "code",
   "execution_count": 56,
   "id": "726bc5ed-2341-4ec6-b613-c053b08a5826",
   "metadata": {},
   "outputs": [
    {
     "name": "stdout",
     "output_type": "stream",
     "text": [
      " 1 2 2 6 7 12 24 41 45 324 2312 10029\n"
     ]
    }
   ],
   "source": [
    "mystr = ''\n",
    "for x in t:\n",
    "    mystr = mystr+ ' '+ str(x)\n",
    "print(mystr)"
   ]
  },
  {
   "cell_type": "markdown",
   "id": "b8bf6fe8-4f55-46a1-9632-26ffdb9062da",
   "metadata": {},
   "source": [
    "29. Convert a tuple of strings to a tuple of integers."
   ]
  },
  {
   "cell_type": "code",
   "execution_count": 57,
   "id": "bc02731a-a61c-484f-a48a-d3f27e3e9926",
   "metadata": {},
   "outputs": [
    {
     "name": "stdout",
     "output_type": "stream",
     "text": [
      "(1, 2, 3, 4)\n"
     ]
    }
   ],
   "source": [
    "l=[]\n",
    "t1 = ('1','2','3','4')\n",
    "for x in t1:\n",
    "    l.append(int(x))\n",
    "t2= tuple(l)\n",
    "print(t2)"
   ]
  },
  {
   "cell_type": "markdown",
   "id": "f52e7fb0-c974-4fc1-8e2f-ae4aa840b21b",
   "metadata": {},
   "source": [
    "30. Merge two tuples."
   ]
  },
  {
   "cell_type": "code",
   "execution_count": 58,
   "id": "b7335a4a-7a2c-4f02-bd7c-15f764b7850f",
   "metadata": {},
   "outputs": [
    {
     "name": "stdout",
     "output_type": "stream",
     "text": [
      "(1, 2, 3, 4, 0, 1, 2, 3, 4, 5, 6, 7, 8, 9)\n"
     ]
    }
   ],
   "source": [
    "t2= (1,2,3,4)\n",
    "t3 = tuple(range(10))\n",
    "l2 = list(t2)\n",
    "\n",
    "for x in t3:\n",
    "    l2.append(x)\n",
    "t4 = tuple(l2)\n",
    "print(t4)"
   ]
  },
  {
   "cell_type": "markdown",
   "id": "bb680222-a003-4f42-b8f5-6943caa47ecd",
   "metadata": {},
   "source": [
    "31. Flatten a nested tuple."
   ]
  },
  {
   "cell_type": "code",
   "execution_count": 4,
   "id": "f3fc483e-701c-4983-8f88-2f437296f7d7",
   "metadata": {},
   "outputs": [
    {
     "name": "stdout",
     "output_type": "stream",
     "text": [
      "(1, 2, 2, 3, 3, 4)\n"
     ]
    }
   ],
   "source": [
    "l=[]\n",
    "t=((1,2),(2,3),(3,4))\n",
    "for a, b in t:\n",
    "    l.append(a)\n",
    "    l.append(b)\n",
    "t = tuple(l)\n",
    "print(t)"
   ]
  },
  {
   "cell_type": "markdown",
   "id": "91721170-26dc-4b4f-ac03-43a85c125da6",
   "metadata": {},
   "source": [
    "32. Create a tuple of the first 5 prime numbers."
   ]
  },
  {
   "cell_type": "code",
   "execution_count": 2,
   "id": "b5b65f02-41e7-4baa-8a7e-9fbf882c63f6",
   "metadata": {},
   "outputs": [
    {
     "name": "stdout",
     "output_type": "stream",
     "text": [
      "(2, 3, 5, 7, 11)\n"
     ]
    }
   ],
   "source": [
    "l=[]\n",
    "for x in range(2,12):\n",
    "    count=0\n",
    "    for y in range(2,x//2+1):\n",
    "        if x%y == 0:\n",
    "            count+=1\n",
    "            break\n",
    "    if count == 0:\n",
    "        l.append(x)\n",
    "        \n",
    "t=tuple(l)\n",
    "print(t)"
   ]
  },
  {
   "cell_type": "markdown",
   "id": "d7cb1562-dc33-45a4-87d5-c1bcce8aa5af",
   "metadata": {},
   "source": [
    "33. Check if a tuple is a palindrome."
   ]
  },
  {
   "cell_type": "code",
   "execution_count": 9,
   "id": "ca7e2961-9879-479f-929c-95389c429be4",
   "metadata": {},
   "outputs": [
    {
     "name": "stdout",
     "output_type": "stream",
     "text": [
      "the tuple is a palindrome\n"
     ]
    }
   ],
   "source": [
    "t = (1,2,3,2,1)\n",
    "if (t[::]==t[::-1]):\n",
    "    print('the tuple is a palindrome')\n",
    "else:\n",
    "    print('the tuple is not a palindrome')"
   ]
  },
  {
   "cell_type": "markdown",
   "id": "569bf75f-95f8-4cc6-a339-68c45be5f5e8",
   "metadata": {},
   "source": [
    "34. Create a tuple of squares of numbers from 1 to 5."
   ]
  },
  {
   "cell_type": "code",
   "execution_count": 11,
   "id": "708cc8ae-c69e-49fb-b80f-05fc791b2d7d",
   "metadata": {},
   "outputs": [
    {
     "name": "stdout",
     "output_type": "stream",
     "text": [
      "(1, 4, 9, 16, 25)\n"
     ]
    }
   ],
   "source": [
    "l=[]\n",
    "x=1\n",
    "while x<=5:\n",
    "    l.append(x**2)\n",
    "    x+=1\n",
    "t=tuple(l)\n",
    "print(t)"
   ]
  },
  {
   "cell_type": "markdown",
   "id": "479ea0c5-42de-4470-8e50-22679d8e02f2",
   "metadata": {},
   "source": [
    "35. Filter out all even numbers from a tuple."
   ]
  },
  {
   "cell_type": "code",
   "execution_count": 12,
   "id": "a4f71fa8-fef7-42f1-8c60-1b4ef368b688",
   "metadata": {},
   "outputs": [],
   "source": [
    "t=tuple(range(20))"
   ]
  },
  {
   "cell_type": "code",
   "execution_count": 13,
   "id": "ebe56622-b009-4535-959b-2aef2c6ee405",
   "metadata": {},
   "outputs": [
    {
     "data": {
      "text/plain": [
       "(0, 1, 2, 3, 4, 5, 6, 7, 8, 9, 10, 11, 12, 13, 14, 15, 16, 17, 18, 19)"
      ]
     },
     "execution_count": 13,
     "metadata": {},
     "output_type": "execute_result"
    }
   ],
   "source": [
    "t"
   ]
  },
  {
   "cell_type": "code",
   "execution_count": 14,
   "id": "22344699-8932-434c-b8d4-de7e86807727",
   "metadata": {},
   "outputs": [
    {
     "name": "stdout",
     "output_type": "stream",
     "text": [
      "(1, 3, 5, 7, 9, 11, 13, 15, 17, 19)\n"
     ]
    }
   ],
   "source": [
    "l=list(t)\n",
    "for x in l:\n",
    "    if x%2==0:\n",
    "        l.remove(x)\n",
    "t=tuple(l)\n",
    "print(t)"
   ]
  },
  {
   "cell_type": "markdown",
   "id": "37f91657-df6b-4261-a909-d684bd75563b",
   "metadata": {},
   "source": [
    "36. Multiply all elements in a tuple by 2."
   ]
  },
  {
   "cell_type": "code",
   "execution_count": 15,
   "id": "2633fe47-a3dd-4cc6-95b7-619f52550403",
   "metadata": {},
   "outputs": [
    {
     "data": {
      "text/plain": [
       "(1, 3, 5, 7, 9, 11, 13, 15, 17, 19)"
      ]
     },
     "execution_count": 15,
     "metadata": {},
     "output_type": "execute_result"
    }
   ],
   "source": [
    "t"
   ]
  },
  {
   "cell_type": "code",
   "execution_count": 20,
   "id": "25124cc6-1a50-49c8-8843-d7e7e5f408db",
   "metadata": {},
   "outputs": [
    {
     "name": "stdout",
     "output_type": "stream",
     "text": [
      "(1, 9, 25, 49, 81, 121, 169, 225, 289, 361)\n"
     ]
    }
   ],
   "source": [
    "l=list(t)\n",
    "for x,y in enumerate(l):\n",
    "    l[x]=y**2\n",
    "t=tuple(l)\n",
    "print(t)\n",
    "    "
   ]
  },
  {
   "cell_type": "markdown",
   "id": "c0c6a11d-4b32-4aa5-b960-662ed90252b4",
   "metadata": {},
   "source": [
    "37. Create a tuple of random numbers."
   ]
  },
  {
   "cell_type": "code",
   "execution_count": 21,
   "id": "26860f1f-3210-4089-8df1-ed7971f82311",
   "metadata": {},
   "outputs": [],
   "source": [
    "import random"
   ]
  },
  {
   "cell_type": "code",
   "execution_count": 40,
   "id": "881ab2b9-1f05-44b2-9164-2a021b36dbae",
   "metadata": {},
   "outputs": [],
   "source": [
    "t=tuple(range(20,random.randrange(30,50)))"
   ]
  },
  {
   "cell_type": "code",
   "execution_count": 41,
   "id": "981717c6-67af-4694-81ab-d4ef129b0182",
   "metadata": {},
   "outputs": [
    {
     "data": {
      "text/plain": [
       "(20, 21, 22, 23, 24, 25, 26, 27, 28, 29, 30)"
      ]
     },
     "execution_count": 41,
     "metadata": {},
     "output_type": "execute_result"
    }
   ],
   "source": [
    "t"
   ]
  },
  {
   "cell_type": "markdown",
   "id": "8e630116-faa1-4fd5-818d-baf84355e092",
   "metadata": {},
   "source": [
    "38. Check if a tuple is sorted."
   ]
  },
  {
   "cell_type": "code",
   "execution_count": 8,
   "id": "f805f011-7931-452c-bb6a-8b75a6b35329",
   "metadata": {},
   "outputs": [],
   "source": [
    "t=(1,2,3)"
   ]
  },
  {
   "cell_type": "code",
   "execution_count": 9,
   "id": "5ea180ea-97a0-4220-94ad-345d007f4be2",
   "metadata": {},
   "outputs": [
    {
     "name": "stdout",
     "output_type": "stream",
     "text": [
      "the tuple is sorted\n"
     ]
    }
   ],
   "source": [
    "l=list(t)\n",
    "if sorted(l)==l:\n",
    "    print('the tuple is sorted')\n",
    "else:\n",
    "    print('the tuple is not sorted')"
   ]
  },
  {
   "cell_type": "markdown",
   "id": "604edf03-ca1d-4d3c-96b6-3ad52b083ce4",
   "metadata": {},
   "source": [
    "39. Rotate a tuple to the left by `n` positions."
   ]
  },
  {
   "cell_type": "code",
   "execution_count": 10,
   "id": "20913f7a-41d1-46d0-8341-0a7f8d57d366",
   "metadata": {},
   "outputs": [],
   "source": [
    "t=(1,2,33,44,5,1,23,4)"
   ]
  },
  {
   "cell_type": "code",
   "execution_count": 11,
   "id": "d9869648-b977-4a2b-b2e0-227defc48505",
   "metadata": {},
   "outputs": [],
   "source": [
    "l=list(t)"
   ]
  },
  {
   "cell_type": "code",
   "execution_count": 15,
   "id": "7acccdbb-3c0e-4366-8cac-c92ae9ec39c3",
   "metadata": {},
   "outputs": [
    {
     "name": "stdin",
     "output_type": "stream",
     "text": [
      "Enter by how many pos you want to rotate the tuple 1\n"
     ]
    },
    {
     "name": "stdout",
     "output_type": "stream",
     "text": [
      "(2, 33, 44, 5, 1, 23, 4, 1)\n"
     ]
    }
   ],
   "source": [
    "n = int(input('Enter by how many pos you want to rotate the tuple'))\n",
    "\n",
    "l1= l[n::]+l[:n]\n",
    "t1=tuple(l1)\n",
    "print(t1)"
   ]
  },
  {
   "cell_type": "markdown",
   "id": "4975a5cb-6c53-4422-b3ab-23e879283379",
   "metadata": {},
   "source": [
    "40. Rotate a tuple to the right by `n` positions."
   ]
  },
  {
   "cell_type": "code",
   "execution_count": 18,
   "id": "4371165f-98db-4b8c-bc9b-1c18a37da2b7",
   "metadata": {},
   "outputs": [
    {
     "name": "stdin",
     "output_type": "stream",
     "text": [
      "Enter by how many pos you want to rotate the tuple 2\n"
     ]
    },
    {
     "name": "stdout",
     "output_type": "stream",
     "text": [
      "(23, 4, 1, 2, 33, 44, 5, 1)\n"
     ]
    }
   ],
   "source": [
    "t=(1,2,33,44,5,1,23,4)\n",
    "l=list(t)\n",
    "n = int(input('Enter by how many pos you want to rotate the tuple'))\n",
    "\n",
    "l1= l[-n:]+l[:-n]\n",
    "t1=tuple(l1)\n",
    "print(t1)"
   ]
  },
  {
   "cell_type": "markdown",
   "id": "ac369575-4f01-43f2-a4b3-701fe6a23a15",
   "metadata": {},
   "source": [
    "41. Create a tuple of the first 5 Fibonacci numbers."
   ]
  },
  {
   "cell_type": "code",
   "execution_count": 24,
   "id": "2f8e6a48-1cae-4b2e-97ae-b9cb875f8bd3",
   "metadata": {},
   "outputs": [
    {
     "name": "stdout",
     "output_type": "stream",
     "text": [
      "(1, 2, 3, 5, 8)\n"
     ]
    }
   ],
   "source": [
    "x=1\n",
    "y=0\n",
    "temp=0\n",
    "l2=[]\n",
    "for a in range(5):\n",
    "    temp=x+y\n",
    "    y=x\n",
    "    x=temp\n",
    "    l2.append(temp)\n",
    "print(tuple(l2))"
   ]
  },
  {
   "cell_type": "markdown",
   "id": "1b2ca796-b6f5-4a57-9eeb-47c5edd6209d",
   "metadata": {},
   "source": [
    "42. Create a tuple from user input."
   ]
  },
  {
   "cell_type": "code",
   "execution_count": 5,
   "id": "10fb50f3-4cc7-42d1-bf27-78753322d693",
   "metadata": {},
   "outputs": [
    {
     "name": "stdin",
     "output_type": "stream",
     "text": [
      "Enter values to list y\n",
      "Enter values to list i\n",
      "Enter values to list o\n",
      "Enter values to list quit\n"
     ]
    },
    {
     "name": "stdout",
     "output_type": "stream",
     "text": [
      "('y', 'i', 'o')\n"
     ]
    }
   ],
   "source": [
    "l=[]\n",
    "n=''\n",
    "while n!='quit':\n",
    "    n = input('Enter values to list')\n",
    "    l.append(n)\n",
    "l.pop()\n",
    "print(tuple(l))"
   ]
  },
  {
   "cell_type": "markdown",
   "id": "3dee6293-7922-4240-8766-f233ecb3ad5d",
   "metadata": {},
   "source": [
    "43. Swap two elements in a tuple."
   ]
  },
  {
   "cell_type": "code",
   "execution_count": 7,
   "id": "89b439df-65d1-483b-b677-9d786da59791",
   "metadata": {},
   "outputs": [],
   "source": [
    "t=(1,2,3,5,6,7,232,345,323,86)"
   ]
  },
  {
   "cell_type": "code",
   "execution_count": 8,
   "id": "0f5db526-45d8-47ae-97a5-656a43e7b706",
   "metadata": {},
   "outputs": [],
   "source": [
    "l1=list(t)"
   ]
  },
  {
   "cell_type": "code",
   "execution_count": 11,
   "id": "2b7b3c35-a6db-4034-b01b-d5c727338ecd",
   "metadata": {},
   "outputs": [
    {
     "name": "stdin",
     "output_type": "stream",
     "text": [
      "enter the position 1 you want to swap 6\n",
      "enter the position 2 you want to swap 9\n"
     ]
    },
    {
     "name": "stdout",
     "output_type": "stream",
     "text": [
      "(1, 6, 5, 3, 2, 7, 86, 345, 323, 232)\n"
     ]
    }
   ],
   "source": [
    "n= int(input('enter the position 1 you want to swap'))\n",
    "m= int(input('enter the position 2 you want to swap'))\n",
    "l1[n],l1[m]=l1[m],l1[n]\n",
    "print(tuple(l1))"
   ]
  },
  {
   "cell_type": "markdown",
   "id": "6054249a-3997-4b6b-b058-98061b7444e0",
   "metadata": {},
   "source": [
    "44. Reverse the elements of a tuple."
   ]
  },
  {
   "cell_type": "code",
   "execution_count": 12,
   "id": "93e0937b-5aab-4364-b688-7d99994e1c29",
   "metadata": {},
   "outputs": [],
   "source": [
    "t= tuple(range(10))"
   ]
  },
  {
   "cell_type": "code",
   "execution_count": 13,
   "id": "d0a690cd-2c61-40ec-843d-b7a4a53d8663",
   "metadata": {},
   "outputs": [
    {
     "name": "stdout",
     "output_type": "stream",
     "text": [
      "(9, 8, 7, 6, 5, 4, 3, 2, 1, 0)\n"
     ]
    }
   ],
   "source": [
    "t1=t[::-1]\n",
    "print(t1)"
   ]
  },
  {
   "cell_type": "markdown",
   "id": "4cde87f3-7b15-4cb2-9035-fcf03654d456",
   "metadata": {},
   "source": [
    "45. Create a tuple of the first `n` powers of 2."
   ]
  },
  {
   "cell_type": "code",
   "execution_count": 16,
   "id": "1828912a-df6b-47e8-bcd9-1bc4a723d37e",
   "metadata": {},
   "outputs": [
    {
     "name": "stdin",
     "output_type": "stream",
     "text": [
      "enter the power of 2 till which you want to store the value in the tuple 20\n"
     ]
    },
    {
     "name": "stdout",
     "output_type": "stream",
     "text": [
      "(1, 2, 4, 8, 16, 32, 64, 128, 256, 512, 1024, 2048, 4096, 8192, 16384, 32768, 65536, 131072, 262144, 524288)\n"
     ]
    }
   ],
   "source": [
    "l=[]\n",
    "n=int(input('enter the power of 2 till which you want to store the value in the tuple'))\n",
    "for x in range(n):\n",
    "    l.append(2**x)\n",
    "print(tuple(l))"
   ]
  },
  {
   "cell_type": "markdown",
   "id": "c6b79fd5-8ce0-4445-a2ed-9a119a53d3d3",
   "metadata": {},
   "source": [
    "46. Find the longest string in a tuple of strings."
   ]
  },
  {
   "cell_type": "code",
   "execution_count": 19,
   "id": "617c5e03-0774-41ea-a0bf-5625e82eaa81",
   "metadata": {},
   "outputs": [
    {
     "name": "stdout",
     "output_type": "stream",
     "text": [
      "the longest string in the tuple is universe\n"
     ]
    }
   ],
   "source": [
    "t=('hello', 'worlds', 'of', 'the', 'universe')\n",
    "strlen=0\n",
    "for x in (t):\n",
    "    if strlen<len(x):\n",
    "        strlen=len(x)\n",
    "print('the longest string in the tuple is',x)"
   ]
  },
  {
   "cell_type": "markdown",
   "id": "afb7e7ab-b1e5-43d5-b0ef-2b6f33663390",
   "metadata": {},
   "source": [
    "47. Find the shortest string in a tuple of strings."
   ]
  },
  {
   "cell_type": "code",
   "execution_count": 25,
   "id": "88714779-af73-44d3-97c9-975463db023b",
   "metadata": {},
   "outputs": [
    {
     "name": "stdout",
     "output_type": "stream",
     "text": [
      "the shortest string in the tuple is of\n"
     ]
    }
   ],
   "source": [
    "strlen = 10000000\n",
    "word = ''\n",
    "t=('hello', 'worlds', 'of', 'the', 'universe')\n",
    "for x in (t):\n",
    "    if strlen>len(x):\n",
    "        strlen=len(x)\n",
    "        word = x\n",
    "print('the shortest string in the tuple is',word)"
   ]
  },
  {
   "cell_type": "markdown",
   "id": "23bad762-668d-4730-94c9-7d35e4904b73",
   "metadata": {},
   "source": [
    "48. Create a tuple of the first `n` triangular numbers."
   ]
  },
  {
   "cell_type": "code",
   "execution_count": 3,
   "id": "6eb482c5-d8b4-4daf-a817-e9ef5a9014f5",
   "metadata": {},
   "outputs": [
    {
     "name": "stdin",
     "output_type": "stream",
     "text": [
      "Enter value of n 6\n"
     ]
    },
    {
     "name": "stdout",
     "output_type": "stream",
     "text": [
      "(1, 3, 6, 10, 15, 21)\n"
     ]
    }
   ],
   "source": [
    "l = []\n",
    "n= int(input('Enter value of n'))\n",
    "x=1\n",
    "y=0\n",
    "for a in range(n):\n",
    "    temp = x+y\n",
    "    x+=1\n",
    "    y=temp\n",
    "    l.append(temp)\n",
    "print(tuple(l))"
   ]
  },
  {
   "cell_type": "markdown",
   "id": "34dfd9a5-d560-428f-8167-83b85f5aba8e",
   "metadata": {},
   "source": [
    "49. Check if a tuple contains another tuple as a subsequence."
   ]
  },
  {
   "cell_type": "code",
   "execution_count": 6,
   "id": "cb9ba747-bafd-4899-9e7e-2a8712d9e92d",
   "metadata": {},
   "outputs": [
    {
     "name": "stdout",
     "output_type": "stream",
     "text": [
      "False\n"
     ]
    }
   ],
   "source": [
    "t= (1,2,3,5,6,7,8,9,10)\n",
    "t1 = (78,)\n",
    "\n",
    "if set(t1).issubset(t):\n",
    "    print('True')\n",
    "else:\n",
    "    print('False')"
   ]
  },
  {
   "cell_type": "markdown",
   "id": "8444cd63-a8c4-4dd5-b636-3140858aaa6c",
   "metadata": {},
   "source": [
    "50. Create a tuple of alternating 1s and 0s of length `n`."
   ]
  },
  {
   "cell_type": "code",
   "execution_count": 9,
   "id": "9aa728b8-e7f1-47b9-b2fb-0795feaa76c2",
   "metadata": {},
   "outputs": [
    {
     "name": "stdin",
     "output_type": "stream",
     "text": [
      "Enter the value of n 10\n"
     ]
    },
    {
     "name": "stdout",
     "output_type": "stream",
     "text": [
      "(0, 1, 0, 1, 0, 1, 0, 1, 0, 1)\n"
     ]
    }
   ],
   "source": [
    "n = int(input('Enter the value of n'))\n",
    "t = [x%2 for x in range(n)]\n",
    "print(tuple(t))"
   ]
  },
  {
   "cell_type": "code",
   "execution_count": 8,
   "id": "c1031bbb-925a-4470-be30-9c4b435c921f",
   "metadata": {},
   "outputs": [
    {
     "data": {
      "text/plain": [
       "[0, 1, 0, 1, 0, 1, 0, 1, 0, 1]"
      ]
     },
     "execution_count": 8,
     "metadata": {},
     "output_type": "execute_result"
    }
   ],
   "source": [
    "t"
   ]
  },
  {
   "cell_type": "markdown",
   "id": "06d9c949-97cc-4460-a68b-62e40641b9a5",
   "metadata": {},
   "source": [
    "# Set Based Practice Problem : 21 - 50"
   ]
  },
  {
   "cell_type": "markdown",
   "id": "53ddf3e0-540b-45d1-b77c-f41ec392b980",
   "metadata": {},
   "source": [
    "21. Create a set of the first 5 prime numbers."
   ]
  },
  {
   "cell_type": "code",
   "execution_count": 8,
   "id": "b132fa29-8587-4eca-8cec-b158c9262337",
   "metadata": {},
   "outputs": [
    {
     "data": {
      "text/plain": [
       "set"
      ]
     },
     "execution_count": 8,
     "metadata": {},
     "output_type": "execute_result"
    }
   ],
   "source": [
    "s= set()\n",
    "type(s)"
   ]
  },
  {
   "cell_type": "code",
   "execution_count": 9,
   "id": "5e837a8b-8259-4a33-a8f8-e627ca7606d3",
   "metadata": {},
   "outputs": [
    {
     "name": "stdin",
     "output_type": "stream",
     "text": [
      "Enter n 7\n"
     ]
    },
    {
     "name": "stdout",
     "output_type": "stream",
     "text": [
      "{2, 3, 5, 7}\n"
     ]
    }
   ],
   "source": [
    "n= int(input(\"Enter n\"))\n",
    "for x in range(2,n+1):\n",
    "    count = 0\n",
    "    for y in range(1,x+1):\n",
    "        if x%y==0:\n",
    "            count+=1\n",
    "    if count == 2:\n",
    "        s.add(x)\n",
    "            \n",
    "print(s)"
   ]
  },
  {
   "cell_type": "markdown",
   "id": "f5cacde9-5404-4c9d-8279-d79b3cc74622",
   "metadata": {},
   "source": [
    "22. Check if two sets are identical."
   ]
  },
  {
   "cell_type": "code",
   "execution_count": 1,
   "id": "cc9ab6a3-cb64-417a-b508-fd521fa43541",
   "metadata": {},
   "outputs": [
    {
     "name": "stdout",
     "output_type": "stream",
     "text": [
      "the sets are identical\n"
     ]
    }
   ],
   "source": [
    "s1={11,22,3,4,11,3,4,4}\n",
    "s2={22,11,3,4}\n",
    "if s1 == s2:\n",
    "    print('the sets are identical')"
   ]
  },
  {
   "cell_type": "markdown",
   "id": "78b87801-c713-45fa-a717-adafb9bd5c0d",
   "metadata": {},
   "source": [
    "23. Create a frozen set."
   ]
  },
  {
   "cell_type": "code",
   "execution_count": 2,
   "id": "8ce5c506-5bc2-447d-8e99-b99d2fcbc2d1",
   "metadata": {},
   "outputs": [],
   "source": [
    "s3={1,2,3,4,5,1,2,3,4,5,1,2,3,4,5}\n",
    "f=frozenset(s3)"
   ]
  },
  {
   "cell_type": "code",
   "execution_count": 3,
   "id": "3a3a02f0-a1ff-4cde-968d-5747059d6738",
   "metadata": {},
   "outputs": [
    {
     "data": {
      "text/plain": [
       "frozenset({1, 2, 3, 4, 5})"
      ]
     },
     "execution_count": 3,
     "metadata": {},
     "output_type": "execute_result"
    }
   ],
   "source": [
    "f"
   ]
  },
  {
   "cell_type": "markdown",
   "id": "5491eaf2-faf5-4497-811d-ab008aadf014",
   "metadata": {},
   "source": [
    "24. Check if a set is disjoint with another set."
   ]
  },
  {
   "cell_type": "code",
   "execution_count": 6,
   "id": "907f517a-ebfe-4979-bf0f-b7c87a688188",
   "metadata": {},
   "outputs": [],
   "source": [
    "s1={1,2,3}\n",
    "s2={1,6,7}"
   ]
  },
  {
   "cell_type": "code",
   "execution_count": 7,
   "id": "22ff3300-ed98-43ea-83ab-96e1590eae0e",
   "metadata": {},
   "outputs": [
    {
     "data": {
      "text/plain": [
       "False"
      ]
     },
     "execution_count": 7,
     "metadata": {},
     "output_type": "execute_result"
    }
   ],
   "source": [
    "s1.isdisjoint(s2)"
   ]
  },
  {
   "cell_type": "markdown",
   "id": "94ad2f84-2186-40cb-acac-d577463dd33c",
   "metadata": {},
   "source": [
    "25. Create a set of squares of numbers from 1 to 5."
   ]
  },
  {
   "cell_type": "code",
   "execution_count": 10,
   "id": "9f2b9170-71af-41f5-b70d-87fc15a147ad",
   "metadata": {},
   "outputs": [
    {
     "name": "stdin",
     "output_type": "stream",
     "text": [
      "enter the value of n 5\n"
     ]
    },
    {
     "name": "stdout",
     "output_type": "stream",
     "text": [
      "{1, 4, 9, 16, 25}\n"
     ]
    }
   ],
   "source": [
    "s4 = set()\n",
    "n =int(input('enter the value of n'))\n",
    "for x in range(1,n+1):\n",
    "    s4.add(x**2)\n",
    "\n",
    "print(s4)"
   ]
  },
  {
   "cell_type": "markdown",
   "id": "68663ecf-b8e5-4c1d-907a-da0f7a62a253",
   "metadata": {},
   "source": [
    "26. Filter out all even numbers from a set."
   ]
  },
  {
   "cell_type": "code",
   "execution_count": 20,
   "id": "27ed58c6-508e-43b7-8c00-9902a23d4bff",
   "metadata": {},
   "outputs": [],
   "source": [
    "s1 = set({1,2,3,4,5,6})"
   ]
  },
  {
   "cell_type": "code",
   "execution_count": 21,
   "id": "27bab1ee-9a3b-473b-b3ed-c8642a132005",
   "metadata": {},
   "outputs": [
    {
     "data": {
      "text/plain": [
       "[1, 2, 3, 4, 5, 6]"
      ]
     },
     "execution_count": 21,
     "metadata": {},
     "output_type": "execute_result"
    }
   ],
   "source": [
    "list(s1)"
   ]
  },
  {
   "cell_type": "code",
   "execution_count": 22,
   "id": "5afd5fa2-3d87-4bf5-9108-fe09e0b6cd18",
   "metadata": {},
   "outputs": [],
   "source": [
    "for x in list(s1):\n",
    "    if x%2==0:\n",
    "        s1.discard(x)"
   ]
  },
  {
   "cell_type": "code",
   "execution_count": 23,
   "id": "dfb6b78b-c90c-4cfe-aa2f-d33836ada9d8",
   "metadata": {},
   "outputs": [
    {
     "data": {
      "text/plain": [
       "{1, 3, 5}"
      ]
     },
     "execution_count": 23,
     "metadata": {},
     "output_type": "execute_result"
    }
   ],
   "source": [
    "s1"
   ]
  },
  {
   "cell_type": "markdown",
   "id": "e46b5f28-d9ba-4447-8364-28d5d9e320f2",
   "metadata": {},
   "source": [
    "27. Multiply all elements in a set by 2."
   ]
  },
  {
   "cell_type": "code",
   "execution_count": 71,
   "id": "ac5106eb-3c48-4f50-9d06-c3bb622fd721",
   "metadata": {},
   "outputs": [
    {
     "name": "stdout",
     "output_type": "stream",
     "text": [
      "{8, 2, 4, 6}\n"
     ]
    }
   ],
   "source": [
    "s2={1,2,3,4}\n",
    "s3=set()\n",
    "for x in s2:\n",
    "    s3.add(x*2)\n",
    "print(s3)"
   ]
  },
  {
   "cell_type": "markdown",
   "id": "fe6b6b8d-f410-4de7-b9fe-fc79ce56d1d9",
   "metadata": {},
   "source": [
    "28. Create a set of random numbers."
   ]
  },
  {
   "cell_type": "code",
   "execution_count": 1,
   "id": "dd71058a-d7a7-4846-9a72-7725d2b8ad4a",
   "metadata": {},
   "outputs": [],
   "source": [
    "import random"
   ]
  },
  {
   "cell_type": "code",
   "execution_count": 7,
   "id": "ee25ee46-4b41-483e-8e8d-5ff46c590615",
   "metadata": {},
   "outputs": [],
   "source": [
    "s = set(random.sample(range(100),20))"
   ]
  },
  {
   "cell_type": "code",
   "execution_count": 8,
   "id": "100ab893-bebb-40b0-a84d-70a1c5c4d30a",
   "metadata": {},
   "outputs": [
    {
     "data": {
      "text/plain": [
       "{1, 8, 10, 14, 16, 25, 27, 30, 32, 54, 57, 63, 66, 70, 72, 81, 83, 86, 95, 96}"
      ]
     },
     "execution_count": 8,
     "metadata": {},
     "output_type": "execute_result"
    }
   ],
   "source": [
    "s"
   ]
  },
  {
   "cell_type": "markdown",
   "id": "c38788f8-ab43-47d0-b88a-091f91240e3e",
   "metadata": {},
   "source": [
    "29. Check if a set is empty."
   ]
  },
  {
   "cell_type": "code",
   "execution_count": 12,
   "id": "b328172e-e5d8-4834-a3c3-ff402387aeb0",
   "metadata": {},
   "outputs": [],
   "source": [
    "s=set({1})"
   ]
  },
  {
   "cell_type": "code",
   "execution_count": 13,
   "id": "4ff6ded7-b07e-4dd4-a9d6-6b26c35c1677",
   "metadata": {},
   "outputs": [
    {
     "data": {
      "text/plain": [
       "{1}"
      ]
     },
     "execution_count": 13,
     "metadata": {},
     "output_type": "execute_result"
    }
   ],
   "source": [
    "s"
   ]
  },
  {
   "cell_type": "code",
   "execution_count": 15,
   "id": "96ccede7-72dd-45de-aa2c-967eda0c7c08",
   "metadata": {},
   "outputs": [
    {
     "name": "stdout",
     "output_type": "stream",
     "text": [
      "the set is not empty\n"
     ]
    }
   ],
   "source": [
    "if len(list(s)) == 0:\n",
    "    print('the set is empty')\n",
    "else:\n",
    "    print('the set is not empty')"
   ]
  },
  {
   "cell_type": "markdown",
   "id": "60c7a0c5-e8b9-4f8f-bcfa-2def3988e8f0",
   "metadata": {},
   "source": [
    "30. Create a nested set (hint: use frozenset)."
   ]
  },
  {
   "cell_type": "code",
   "execution_count": 16,
   "id": "c21dff1d-5335-44b1-aabe-3b0f19c7b201",
   "metadata": {},
   "outputs": [],
   "source": [
    "s = set([frozenset([1,2]), frozenset([3,4])])"
   ]
  },
  {
   "cell_type": "code",
   "execution_count": 17,
   "id": "3fb06431-4e7a-4c30-aed9-05545093149a",
   "metadata": {},
   "outputs": [
    {
     "data": {
      "text/plain": [
       "{frozenset({3, 4}), frozenset({1, 2})}"
      ]
     },
     "execution_count": 17,
     "metadata": {},
     "output_type": "execute_result"
    }
   ],
   "source": [
    "s"
   ]
  },
  {
   "cell_type": "markdown",
   "id": "44d5c316-0b28-4bbb-a12c-5929cbdabeeb",
   "metadata": {},
   "source": [
    "31. Remove an element from a set using the discard method."
   ]
  },
  {
   "cell_type": "code",
   "execution_count": 18,
   "id": "e99b16d3-1f61-4da1-b7c5-983e81573d26",
   "metadata": {},
   "outputs": [],
   "source": [
    "s={1,2,3,4,5,6}"
   ]
  },
  {
   "cell_type": "code",
   "execution_count": 21,
   "id": "8e07da8b-a1e6-44bd-be61-da1b55f887d5",
   "metadata": {},
   "outputs": [],
   "source": [
    "s.discard(10)"
   ]
  },
  {
   "cell_type": "code",
   "execution_count": 22,
   "id": "ef05675c-40f2-4205-9952-1dfcec0b37e0",
   "metadata": {},
   "outputs": [],
   "source": [
    "s.discard(2)"
   ]
  },
  {
   "cell_type": "code",
   "execution_count": 23,
   "id": "de45f35b-e607-4dbf-99ce-779af086c187",
   "metadata": {},
   "outputs": [
    {
     "data": {
      "text/plain": [
       "{1, 3, 4, 5, 6}"
      ]
     },
     "execution_count": 23,
     "metadata": {},
     "output_type": "execute_result"
    }
   ],
   "source": [
    "s"
   ]
  },
  {
   "cell_type": "markdown",
   "id": "663c9e41-1940-4750-bc81-6f24d88dc1be",
   "metadata": {},
   "source": [
    "32. Compare two sets."
   ]
  },
  {
   "cell_type": "code",
   "execution_count": 24,
   "id": "f57ea428-c091-4058-be4c-af3b45da3aa6",
   "metadata": {},
   "outputs": [
    {
     "data": {
      "text/plain": [
       "False"
      ]
     },
     "execution_count": 24,
     "metadata": {},
     "output_type": "execute_result"
    }
   ],
   "source": [
    "s1= {1,2,3,4}\n",
    "s2={2,3,4,5}\n",
    "s1 == s2"
   ]
  },
  {
   "cell_type": "markdown",
   "id": "c17976db-8733-4158-a10a-e35b3ae8bfe5",
   "metadata": {},
   "source": [
    "33. Create a set from a string."
   ]
  },
  {
   "cell_type": "code",
   "execution_count": 2,
   "id": "bd925e69-32e9-4da0-821e-9ae241339a2f",
   "metadata": {},
   "outputs": [
    {
     "name": "stdout",
     "output_type": "stream",
     "text": [
      "{'h', 'l', 'w', 'r', 'o', 'e', ' ', 'd'}\n"
     ]
    }
   ],
   "source": [
    "mystr= 'hello world'\n",
    "s = set()\n",
    "for x in mystr:\n",
    "    s.add(x)\n",
    "print(s)"
   ]
  },
  {
   "cell_type": "markdown",
   "id": "7ae0d8c6-9b1c-42e5-ba80-c619d2727978",
   "metadata": {},
   "source": [
    "34. Convert a set of strings to a set of integers."
   ]
  },
  {
   "cell_type": "code",
   "execution_count": 4,
   "id": "cefad6cc-d652-46b1-b434-07d9e31b8e0b",
   "metadata": {},
   "outputs": [
    {
     "name": "stdout",
     "output_type": "stream",
     "text": [
      "{1, 2}\n"
     ]
    }
   ],
   "source": [
    "s={'1','2','1','1','2'}\n",
    "s1=set()\n",
    "for x in s:\n",
    "    s1.add(int(x))\n",
    "print(s1)"
   ]
  },
  {
   "cell_type": "markdown",
   "id": "a8cc1035-6a43-42aa-abec-131e931daf2f",
   "metadata": {},
   "source": [
    "35. Convert a set of integers to a set of strings."
   ]
  },
  {
   "cell_type": "code",
   "execution_count": 5,
   "id": "a3efe18c-0c07-4809-a8d9-ff06e2696387",
   "metadata": {},
   "outputs": [
    {
     "data": {
      "text/plain": [
       "{1, 2}"
      ]
     },
     "execution_count": 5,
     "metadata": {},
     "output_type": "execute_result"
    }
   ],
   "source": [
    "s1"
   ]
  },
  {
   "cell_type": "code",
   "execution_count": 6,
   "id": "c929467f-daed-4b95-8327-bbdb6d7a8d68",
   "metadata": {},
   "outputs": [
    {
     "name": "stdout",
     "output_type": "stream",
     "text": [
      "{'1', '2'}\n"
     ]
    }
   ],
   "source": [
    "s2=set()\n",
    "for x in s1:\n",
    "    s2.add(str(x))\n",
    "print(s2)"
   ]
  },
  {
   "cell_type": "markdown",
   "id": "f20a5552-e81f-46c2-86fb-370cbe544b7d",
   "metadata": {},
   "source": [
    "36. Create a set from a tuple."
   ]
  },
  {
   "cell_type": "code",
   "execution_count": 7,
   "id": "e73aa376-4761-48e6-b874-275e4b53dce8",
   "metadata": {},
   "outputs": [
    {
     "name": "stdout",
     "output_type": "stream",
     "text": [
      "{1, 2, 3, 4, 5, 6}\n"
     ]
    }
   ],
   "source": [
    "t = (1,1,2,3,4,5,6)\n",
    "s3=set()\n",
    "for x in t:\n",
    "    s3.add(x)\n",
    "print(s3)"
   ]
  },
  {
   "cell_type": "markdown",
   "id": "ab7405a8-c446-4127-af6e-f6a45e054f12",
   "metadata": {},
   "source": [
    "37. Convert a set to a tuple."
   ]
  },
  {
   "cell_type": "code",
   "execution_count": 8,
   "id": "497a9d0d-a856-4e9c-98d5-f7c7747af08e",
   "metadata": {},
   "outputs": [
    {
     "data": {
      "text/plain": [
       "{1, 2, 3, 4, 5, 6}"
      ]
     },
     "execution_count": 8,
     "metadata": {},
     "output_type": "execute_result"
    }
   ],
   "source": [
    "s3"
   ]
  },
  {
   "cell_type": "code",
   "execution_count": 9,
   "id": "2dfa0102-2298-4f49-86e8-412a6ead0caf",
   "metadata": {},
   "outputs": [],
   "source": [
    "t1= tuple(s3)"
   ]
  },
  {
   "cell_type": "code",
   "execution_count": 10,
   "id": "b3cce6c0-ed9f-4bbe-9743-14dc58c97ab9",
   "metadata": {},
   "outputs": [
    {
     "data": {
      "text/plain": [
       "(1, 2, 3, 4, 5, 6)"
      ]
     },
     "execution_count": 10,
     "metadata": {},
     "output_type": "execute_result"
    }
   ],
   "source": [
    "t1"
   ]
  },
  {
   "cell_type": "markdown",
   "id": "129ae7cd-954b-4281-9034-0c8138d894cb",
   "metadata": {},
   "source": [
    "38. Find the maximum value in a set."
   ]
  },
  {
   "cell_type": "code",
   "execution_count": 11,
   "id": "b6c45ffb-7819-4417-94fd-c35a5b10a1ef",
   "metadata": {},
   "outputs": [
    {
     "data": {
      "text/plain": [
       "{1, 2, 3, 4, 5, 6}"
      ]
     },
     "execution_count": 11,
     "metadata": {},
     "output_type": "execute_result"
    }
   ],
   "source": [
    "s3"
   ]
  },
  {
   "cell_type": "code",
   "execution_count": 12,
   "id": "0e324dca-110e-4a41-ab38-319404b98915",
   "metadata": {},
   "outputs": [
    {
     "data": {
      "text/plain": [
       "6"
      ]
     },
     "execution_count": 12,
     "metadata": {},
     "output_type": "execute_result"
    }
   ],
   "source": [
    "max(s3)"
   ]
  },
  {
   "cell_type": "markdown",
   "id": "73b11cb8-1927-43e4-9637-a76e35fa2315",
   "metadata": {},
   "source": [
    "39. Find the minimum value in a set."
   ]
  },
  {
   "cell_type": "code",
   "execution_count": 13,
   "id": "1af67684-2a7e-425b-a67b-66d00ebc8cc5",
   "metadata": {},
   "outputs": [
    {
     "data": {
      "text/plain": [
       "{1, 2, 3, 4, 5, 6}"
      ]
     },
     "execution_count": 13,
     "metadata": {},
     "output_type": "execute_result"
    }
   ],
   "source": [
    "s3"
   ]
  },
  {
   "cell_type": "code",
   "execution_count": 14,
   "id": "a9fbe47b-9410-484f-9e9c-822fed787a87",
   "metadata": {},
   "outputs": [
    {
     "data": {
      "text/plain": [
       "1"
      ]
     },
     "execution_count": 14,
     "metadata": {},
     "output_type": "execute_result"
    }
   ],
   "source": [
    "min(s3)"
   ]
  },
  {
   "cell_type": "markdown",
   "id": "31b08416-7d0a-42f1-843c-f31022902f5c",
   "metadata": {},
   "source": [
    "40. Create a set from user input."
   ]
  },
  {
   "cell_type": "code",
   "execution_count": 21,
   "id": "3d0297dc-b179-4eab-be4f-99cc324635a9",
   "metadata": {},
   "outputs": [
    {
     "name": "stdin",
     "output_type": "stream",
     "text": [
      "Do you want to enter values to the set, y or n:  y\n",
      "Enter values to set:  22\n",
      "Do you want to enter values to the set, y or n:  y\n",
      "Enter values to set:  33\n",
      "Do you want to enter values to the set, y or n:  y\n",
      "Enter values to set:  44\n",
      "Do you want to enter values to the set, y or n:  y\n",
      "Enter values to set:  22\n",
      "Do you want to enter values to the set, y or n:  n\n"
     ]
    },
    {
     "name": "stdout",
     "output_type": "stream",
     "text": [
      "{'22', '33', '44'}\n"
     ]
    }
   ],
   "source": [
    "k=False\n",
    "s4=set()\n",
    "while not k:\n",
    "    x= input('Do you want to enter values to the set, y or n: ')\n",
    "    if x == 'n':\n",
    "        k=False\n",
    "        break\n",
    "    elif x=='y':\n",
    "        y = input('Enter values to set: ')\n",
    "        s4.add(y)\n",
    "    else:\n",
    "        print('Enter y or n correctly')\n",
    "print(s4)"
   ]
  },
  {
   "cell_type": "markdown",
   "id": "75d78178-8f74-418a-a1ae-485b06559d82",
   "metadata": {},
   "source": [
    "41. Check if the intersection of two sets is empty."
   ]
  },
  {
   "cell_type": "code",
   "execution_count": 28,
   "id": "08986a57-3e2a-4eed-9902-420e62551b28",
   "metadata": {},
   "outputs": [],
   "source": [
    "s1={8,9}"
   ]
  },
  {
   "cell_type": "code",
   "execution_count": 29,
   "id": "320852b3-9077-4858-8e59-dabae4e2b342",
   "metadata": {},
   "outputs": [
    {
     "data": {
      "text/plain": [
       "{1, 2, 3, 4, 5, 6}"
      ]
     },
     "execution_count": 29,
     "metadata": {},
     "output_type": "execute_result"
    }
   ],
   "source": [
    "s3"
   ]
  },
  {
   "cell_type": "code",
   "execution_count": 30,
   "id": "abe43cf9-c2c7-4441-beea-3fe01436e24c",
   "metadata": {},
   "outputs": [
    {
     "name": "stdout",
     "output_type": "stream",
     "text": [
      "the intersection of two sets is empty\n"
     ]
    }
   ],
   "source": [
    "if len(s1.intersection(s3))==0:\n",
    "    print('the intersection of two sets is empty')\n",
    "else:\n",
    "    print(s1.intersection(s3))"
   ]
  },
  {
   "cell_type": "markdown",
   "id": "d3473b57-4c7d-47c3-814f-91c156967efe",
   "metadata": {},
   "source": [
    "42. Create a set of the first 5 Fibonacci numbers."
   ]
  },
  {
   "cell_type": "code",
   "execution_count": 34,
   "id": "1e927c6c-bcbc-48fe-8c7c-cd291661c7b5",
   "metadata": {},
   "outputs": [],
   "source": [
    "s6=set()\n",
    "temp = 0\n",
    "x= 1\n",
    "y = 0\n",
    "for k in range(6):\n",
    "    temp = x+y\n",
    "    y=x\n",
    "    x=temp\n",
    "    s6.add(temp)"
   ]
  },
  {
   "cell_type": "code",
   "execution_count": 35,
   "id": "e96bcb3b-e242-4ba9-b952-daea55116841",
   "metadata": {},
   "outputs": [
    {
     "data": {
      "text/plain": [
       "{1, 2, 3, 5, 8, 13}"
      ]
     },
     "execution_count": 35,
     "metadata": {},
     "output_type": "execute_result"
    }
   ],
   "source": [
    "s6"
   ]
  },
  {
   "cell_type": "markdown",
   "id": "f76cad8a-4149-4b6c-befa-bc9216e70185",
   "metadata": {},
   "source": [
    "43. Remove duplicates from a list using sets."
   ]
  },
  {
   "cell_type": "code",
   "execution_count": 36,
   "id": "6a05b757-6746-4f55-85be-d9a4e06e5536",
   "metadata": {},
   "outputs": [],
   "source": [
    "l = [1,2,3,4,1,2,5,6,7,2,7]\n",
    "s7 = set(l)"
   ]
  },
  {
   "cell_type": "code",
   "execution_count": 37,
   "id": "c1d194bd-6ec2-40a0-8170-129d5ee40540",
   "metadata": {},
   "outputs": [
    {
     "data": {
      "text/plain": [
       "{1, 2, 3, 4, 5, 6, 7}"
      ]
     },
     "execution_count": 37,
     "metadata": {},
     "output_type": "execute_result"
    }
   ],
   "source": [
    "s7"
   ]
  },
  {
   "cell_type": "markdown",
   "id": "dd9c0e2b-246a-4984-a5f5-4b398711f343",
   "metadata": {},
   "source": [
    "44. Check if two sets have the same elements, regardless of their count."
   ]
  },
  {
   "cell_type": "code",
   "execution_count": 44,
   "id": "daeedb6c-4d42-47ba-b563-533212a85620",
   "metadata": {},
   "outputs": [],
   "source": [
    "s1= {1,1,2,2,3,3,3,4,5,5,6,7}\n",
    "s2 ={1,2,3,4,5,6,7}\n"
   ]
  },
  {
   "cell_type": "code",
   "execution_count": 45,
   "id": "f2a61b8b-81a3-45ad-b7e4-da5d3ed675ec",
   "metadata": {},
   "outputs": [
    {
     "data": {
      "text/plain": [
       "True"
      ]
     },
     "execution_count": 45,
     "metadata": {},
     "output_type": "execute_result"
    }
   ],
   "source": [
    "s1==s2"
   ]
  },
  {
   "cell_type": "markdown",
   "id": "217bba97-3b56-4ab9-bb19-6fe2706efe60",
   "metadata": {},
   "source": [
    "45. Create a set of the first `n` powers of 2."
   ]
  },
  {
   "cell_type": "code",
   "execution_count": 46,
   "id": "d4f6a8ea-e631-4ce3-9f8a-8feeec0aec1f",
   "metadata": {},
   "outputs": [
    {
     "name": "stdin",
     "output_type": "stream",
     "text": [
      "Enter till what power of n you want the number in the set 4\n"
     ]
    },
    {
     "name": "stdout",
     "output_type": "stream",
     "text": [
      "{8, 1, 2, 4}\n"
     ]
    }
   ],
   "source": [
    "n=int(input('Enter till what power of n you want the number in the set'))\n",
    "s1=set()\n",
    "for x in range(n):\n",
    "    s1.add(2**x)\n",
    "print(s1)"
   ]
  },
  {
   "cell_type": "markdown",
   "id": "062c5010-7484-4e3b-b70e-6701860af86f",
   "metadata": {},
   "source": [
    "46. Find the common elements between a set and a list."
   ]
  },
  {
   "cell_type": "code",
   "execution_count": 52,
   "id": "58761617-4e1e-4f9c-ba79-82745b0a0dcd",
   "metadata": {},
   "outputs": [],
   "source": [
    "s1={1,2,3,4,1,2,3,4}\n",
    "l=[2,3,5,6]\n"
   ]
  },
  {
   "cell_type": "code",
   "execution_count": 53,
   "id": "73e345bd-04f6-4d52-983e-74c5f7be32cd",
   "metadata": {},
   "outputs": [],
   "source": [
    "s2= set(l)"
   ]
  },
  {
   "cell_type": "code",
   "execution_count": 54,
   "id": "354d40bb-6b57-415d-a864-a7fccd63b63b",
   "metadata": {},
   "outputs": [],
   "source": [
    "s4=s1.intersection(s2)"
   ]
  },
  {
   "cell_type": "code",
   "execution_count": 55,
   "id": "fc02b08b-df7a-48fa-8f0d-90db77fbd814",
   "metadata": {},
   "outputs": [
    {
     "data": {
      "text/plain": [
       "{2, 3}"
      ]
     },
     "execution_count": 55,
     "metadata": {},
     "output_type": "execute_result"
    }
   ],
   "source": [
    "s4"
   ]
  },
  {
   "cell_type": "markdown",
   "id": "1eae79e8-6636-4239-bf2d-cb7039bfb051",
   "metadata": {},
   "source": [
    "47. Create a set of the first `n` triangular numbers."
   ]
  },
  {
   "cell_type": "code",
   "execution_count": 60,
   "id": "632cc0f5-7059-48a6-b8d0-d9c04a04ff1d",
   "metadata": {},
   "outputs": [
    {
     "name": "stdin",
     "output_type": "stream",
     "text": [
      "Enter n 6\n"
     ]
    },
    {
     "name": "stdout",
     "output_type": "stream",
     "text": [
      "{1, 3, 6, 10, 15, 21}\n"
     ]
    }
   ],
   "source": [
    "temp=0\n",
    "n = int(input('Enter n'))\n",
    "y=0\n",
    "s2=set()\n",
    "for x in range(1,n+1):\n",
    "    temp = x+y\n",
    "    y = temp\n",
    "    s2.add(temp)\n",
    "print(s2)"
   ]
  },
  {
   "cell_type": "markdown",
   "id": "2cb0d2f5-da1e-436f-90b5-bc7e6fdbade4",
   "metadata": {},
   "source": [
    "48. Check if a set contains another set as a subset."
   ]
  },
  {
   "cell_type": "code",
   "execution_count": 65,
   "id": "e43a573a-8567-4036-9ca2-81e2e280cb55",
   "metadata": {},
   "outputs": [],
   "source": [
    "s1= {1,2,3,4}\n",
    "s2= {46,1}\n"
   ]
  },
  {
   "cell_type": "code",
   "execution_count": 66,
   "id": "8b854e20-6e99-4ef9-b313-43190bc62dbe",
   "metadata": {},
   "outputs": [
    {
     "name": "stdout",
     "output_type": "stream",
     "text": [
      "s2 is not a subset of s2\n"
     ]
    }
   ],
   "source": [
    "if s2.issubset(s1):\n",
    "    print('s2 is a subset of s1')\n",
    "else:\n",
    "    print('s2 is not a subset of s2')"
   ]
  },
  {
   "cell_type": "markdown",
   "id": "dd5ea02d-9043-44c7-8c01-590e224e4753",
   "metadata": {},
   "source": [
    "49. Create a set of alternating 1s and 0s of length `n`."
   ]
  },
  {
   "cell_type": "code",
   "execution_count": 68,
   "id": "fe722763-44a4-44d9-b997-82ba7dba3a76",
   "metadata": {},
   "outputs": [
    {
     "name": "stdin",
     "output_type": "stream",
     "text": [
      "Enter no, of digits 7\n"
     ]
    },
    {
     "name": "stdout",
     "output_type": "stream",
     "text": [
      "{0, 1}\n"
     ]
    }
   ],
   "source": [
    "n = int(input('Enter no, of digits'))\n",
    "s2=set()\n",
    "for x in range(n):\n",
    "    if x%2==0:\n",
    "        s2.add(1)\n",
    "    else:\n",
    "        s2.add(0)\n",
    "print(s2)"
   ]
  },
  {
   "cell_type": "markdown",
   "id": "f0530dfe-f450-46ad-8215-0f362750a0ef",
   "metadata": {},
   "source": [
    "50. Merge multiple sets into one."
   ]
  },
  {
   "cell_type": "code",
   "execution_count": 69,
   "id": "eb3ff2a4-1dd3-4f17-9479-cf6376cfae6f",
   "metadata": {},
   "outputs": [],
   "source": [
    "s1={1,2,3,4}\n",
    "s2={2,3,4,5,6}\n",
    "s3={4,5,6,7,89,0}\n"
   ]
  },
  {
   "cell_type": "code",
   "execution_count": 70,
   "id": "76e1e1e0-bcdc-43f9-b831-d0a380242b6e",
   "metadata": {},
   "outputs": [
    {
     "data": {
      "text/plain": [
       "{0, 1, 2, 3, 4, 5, 6, 7, 89}"
      ]
     },
     "execution_count": 70,
     "metadata": {},
     "output_type": "execute_result"
    }
   ],
   "source": [
    "s1.union(s2,s3)"
   ]
  },
  {
   "cell_type": "code",
   "execution_count": null,
   "id": "d262ea60-12a1-494c-9b89-89a0fc8fa658",
   "metadata": {},
   "outputs": [],
   "source": []
  }
 ],
 "metadata": {
  "kernelspec": {
   "display_name": "Python 3 (ipykernel)",
   "language": "python",
   "name": "python3"
  },
  "language_info": {
   "codemirror_mode": {
    "name": "ipython",
    "version": 3
   },
   "file_extension": ".py",
   "mimetype": "text/x-python",
   "name": "python",
   "nbconvert_exporter": "python",
   "pygments_lexer": "ipython3",
   "version": "3.10.8"
  }
 },
 "nbformat": 4,
 "nbformat_minor": 5
}
